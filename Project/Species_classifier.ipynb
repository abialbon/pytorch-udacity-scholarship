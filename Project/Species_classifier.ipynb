{
  "nbformat": 4,
  "nbformat_minor": 0,
  "metadata": {
    "colab": {
      "name": "Species classifier.ipynb",
      "version": "0.3.2",
      "provenance": [],
      "collapsed_sections": [],
      "toc_visible": true,
      "include_colab_link": true
    },
    "kernelspec": {
      "name": "python3",
      "display_name": "Python 3"
    },
    "accelerator": "GPU"
  },
  "cells": [
    {
      "cell_type": "markdown",
      "metadata": {
        "id": "view-in-github",
        "colab_type": "text"
      },
      "source": [
        "<a href=\"https://colab.research.google.com/github/abialbon/pytorch-udacity-scholarship/blob/master/Project/Species_classifier.ipynb\" target=\"_parent\"><img src=\"https://colab.research.google.com/assets/colab-badge.svg\" alt=\"Open In Colab\"/></a>"
      ]
    },
    {
      "metadata": {
        "id": "A5xLec2uiGVf",
        "colab_type": "code",
        "colab": {}
      },
      "cell_type": "code",
      "source": [
        "from google.colab import drive\n",
        "drive.mount('/content/drive')"
      ],
      "execution_count": 0,
      "outputs": []
    },
    {
      "metadata": {
        "id": "GEEy0OGNpAJE",
        "colab_type": "code",
        "colab": {}
      },
      "cell_type": "code",
      "source": [
        "def logger(text, log_path):\n",
        "    with open(log_path, 'a') as f:\n",
        "        f.write(text + '\\n')\n",
        "        \n",
        "log_path = 'drive/My Drive/job_/log.txt'"
      ],
      "execution_count": 0,
      "outputs": []
    },
    {
      "metadata": {
        "id": "GnGA_xPyQxdd",
        "colab_type": "code",
        "colab": {}
      },
      "cell_type": "code",
      "source": [
        "# http://pytorch.org/\n",
        "from os.path import exists\n",
        "from wheel.pep425tags import get_abbr_impl, get_impl_ver, get_abi_tag\n",
        "platform = '{}{}-{}'.format(get_abbr_impl(), get_impl_ver(), get_abi_tag())\n",
        "cuda_output = !ldconfig -p|grep cudart.so|sed -e 's/.*\\.\\([0-9]*\\)\\.\\([0-9]*\\)$/cu\\1\\2/'\n",
        "accelerator = cuda_output[0] if exists('/dev/nvidia0') else 'cpu'\n",
        "\n",
        "!pip install -q http://download.pytorch.org/whl/{accelerator}/torch-0.4.1-{platform}-linux_x86_64.whl torchvision\n",
        "\n"
      ],
      "execution_count": 0,
      "outputs": []
    },
    {
      "metadata": {
        "id": "ue2JwmDLUC99",
        "colab_type": "code",
        "outputId": "9df3a186-5d3c-4f25-9c73-ec8c52a2daef",
        "colab": {
          "base_uri": "https://localhost:8080/",
          "height": 35
        }
      },
      "cell_type": "code",
      "source": [
        "# All imports\n",
        "import time\n",
        "import torch\n",
        "import numpy as np\n",
        "from torchvision import datasets, models, transforms\n",
        "from torch import nn\n",
        "import torch.nn.functional as F\n",
        "from torch import optim\n",
        "\n",
        "device = 'cuda' if torch.cuda.is_available() else 'cpu'\n",
        "device\n",
        "print(torch.__version__)"
      ],
      "execution_count": 0,
      "outputs": [
        {
          "output_type": "stream",
          "text": [
            "0.4.1\n"
          ],
          "name": "stdout"
        }
      ]
    },
    {
      "metadata": {
        "id": "l3afUSHJUSFN",
        "colab_type": "code",
        "colab": {}
      },
      "cell_type": "code",
      "source": [
        "!wget -cq https://s3.amazonaws.com/content.udacity-data.com/courses/nd188/flower_data.zip"
      ],
      "execution_count": 0,
      "outputs": []
    },
    {
      "metadata": {
        "id": "bYtURh_xDAZ7",
        "colab_type": "code",
        "colab": {}
      },
      "cell_type": "code",
      "source": [
        "!wget -cq https://raw.githubusercontent.com/udacity/pytorch_challenge/master/cat_to_name.json"
      ],
      "execution_count": 0,
      "outputs": []
    },
    {
      "metadata": {
        "id": "kfg_eTbWUVud",
        "colab_type": "code",
        "colab": {}
      },
      "cell_type": "code",
      "source": [
        "!unzip -qq flower_data.zip"
      ],
      "execution_count": 0,
      "outputs": []
    },
    {
      "metadata": {
        "id": "N174VnHcDPqX",
        "colab_type": "code",
        "colab": {}
      },
      "cell_type": "code",
      "source": [
        "import json\n",
        "\n",
        "with open('cat_to_name.json', 'r') as f:\n",
        "    classes_to_labels = json.load(f)"
      ],
      "execution_count": 0,
      "outputs": []
    },
    {
      "metadata": {
        "id": "s0GL6ws5UZNl",
        "colab_type": "code",
        "colab": {}
      },
      "cell_type": "code",
      "source": [
        "image_dir = 'flower_data'\n",
        "train = '/train'\n",
        "valid = '/valid'\n",
        "\n",
        "train_transforms = transforms.Compose([transforms.Resize(256),\n",
        "                                      transforms.CenterCrop(224),\n",
        "                                      transforms.ToTensor(),\n",
        "                                      transforms.Normalize(mean = [0.485, 0.456, 0.406], std = [0.229, 0.224, 0.225])])\n",
        "\n",
        "trainset = datasets.ImageFolder(image_dir + train, transform=train_transforms)\n",
        "valset = datasets.ImageFolder(image_dir + valid, transform=train_transforms)\n",
        "\n",
        "train_loader = torch.utils.data.DataLoader(trainset, batch_size=32, shuffle=True)\n",
        "val_loader = torch.utils.data.DataLoader(valset, batch_size=32, shuffle=True)"
      ],
      "execution_count": 0,
      "outputs": []
    },
    {
      "metadata": {
        "id": "-rnV3fMo46cr",
        "colab_type": "code",
        "colab": {}
      },
      "cell_type": "code",
      "source": [
        "%%capture\n",
        "fc = nn.Sequential(nn.Linear(2048, len(classes_to_labels)),\n",
        "                  nn.LogSoftmax(dim=1))\n",
        "\n",
        "model = models.resnet152(pretrained=True)\n",
        "\n",
        "model.fc = fc\n",
        "model.to(device)"
      ],
      "execution_count": 0,
      "outputs": []
    },
    {
      "metadata": {
        "id": "qNMX4pd6H4BH",
        "colab_type": "code",
        "colab": {}
      },
      "cell_type": "code",
      "source": [
        "criteria = nn.NLLLoss()\n",
        "optimizer = optim.SGD(model.parameters(), lr=0.001, momentum=0.9)\n",
        "scheduler = torch.optim.lr_scheduler.StepLR(optimizer, step_size=5, gamma=0.1)"
      ],
      "execution_count": 0,
      "outputs": []
    },
    {
      "metadata": {
        "id": "T-jpZTshSnQ0",
        "colab_type": "code",
        "colab": {}
      },
      "cell_type": "code",
      "source": [
        "def save_model(model):\n",
        "    dict_to_save = {\n",
        "        'class_to_idx': trainset.class_to_idx,\n",
        "        'input_layers': 2048,\n",
        "        'output_layers': len(classes_to_labels),\n",
        "        'state_dict': model.cpu().state_dict()\n",
        "    }\n",
        "    torch.save(dict_to_save, 'drive/My Drive/job_/model_resent_new.pt')"
      ],
      "execution_count": 0,
      "outputs": []
    },
    {
      "metadata": {
        "id": "IT1Qp0JUI6nD",
        "colab_type": "code",
        "colab": {}
      },
      "cell_type": "code",
      "source": [
        "def train(n_epochs, model, criteria, optimizer, log_path):\n",
        "    model.train()\n",
        "    for e in range(n_epochs):\n",
        "        start = time.time()\n",
        "        train_loss = 0\n",
        "        for images, labels in train_loader:\n",
        "            images, labels = images.to(device), labels.to(device)\n",
        "            \n",
        "            output = model.forward(images)\n",
        "            loss = criteria(output, labels)\n",
        "            train_loss += loss.item()\n",
        "            optimizer.zero_grad()\n",
        "            loss.backward()\n",
        "            optimizer.step()\n",
        "        else:\n",
        "            val_loss = 0\n",
        "            accuracy = 0\n",
        "            model.eval()\n",
        "            with torch.no_grad():\n",
        "                for images, labels in val_loader:\n",
        "                    images, labels = images.to(device), labels.to(device)\n",
        "\n",
        "                    output = model.forward(images)\n",
        "                    loss = criteria(output, labels)\n",
        "                    val_loss += loss.item()\n",
        "                    probs = torch.exp(output)\n",
        "                    prob, top_c = probs.topk(1)\n",
        "                    \n",
        "                    equals = top_c.squeeze() == labels\n",
        "                    equals = equals.type(torch.FloatTensor).mean()\n",
        "                    accuracy += equals.item()\n",
        "                else:\n",
        "                    end = time.time()\n",
        "                    total_time = end - start\n",
        "                    metric_string = 'Epoch: {:2d}/{:2d} ---- Train loss: {:3.3f} ---- Val loss: {:3.3f} ---- Acc: {:3.2f}%'.format(e+1, n_epochs, train_loss/len(train_loader), val_loss/len(val_loader), (accuracy/len(val_loader)) * 100)\n",
        "                    try:\n",
        "                        logger(metric_string, log_path)\n",
        "                    finally:\n",
        "                        print(metric_string)\n",
        "                        print('Time for last epoch: {:2d}m {:2d}s'.format(int(total_time//60), int(total_time % 60)))\n",
        "                    model.train()\n",
        "    scheduler.step()"
      ],
      "execution_count": 0,
      "outputs": []
    },
    {
      "metadata": {
        "id": "CK5dDHYYNUYl",
        "colab_type": "code",
        "outputId": "b609bef2-e338-45df-b654-bfe46dbfa319",
        "colab": {
          "base_uri": "https://localhost:8080/",
          "height": 459
        }
      },
      "cell_type": "code",
      "source": [
        "train(15, model, criteria, optimizer, log_path)"
      ],
      "execution_count": 0,
      "outputs": [
        {
          "output_type": "stream",
          "text": [
            "Epoch:  1/15 ---- Train loss: 3.174 ---- Val loss: 1.592 ---- Acc: 70.90%\n",
            "Time for last epoch:  8m 56s\n",
            "Epoch:  2/15 ---- Train loss: 1.052 ---- Val loss: 0.535 ---- Acc: 92.84%\n",
            "Time for last epoch:  8m 57s\n",
            "Epoch:  3/15 ---- Train loss: 0.397 ---- Val loss: 0.267 ---- Acc: 96.39%\n",
            "Time for last epoch:  8m 57s\n",
            "Epoch:  4/15 ---- Train loss: 0.200 ---- Val loss: 0.191 ---- Acc: 96.75%\n",
            "Time for last epoch:  8m 57s\n",
            "Epoch:  5/15 ---- Train loss: 0.110 ---- Val loss: 0.156 ---- Acc: 97.53%\n",
            "Time for last epoch:  8m 57s\n",
            "Epoch:  6/15 ---- Train loss: 0.070 ---- Val loss: 0.129 ---- Acc: 98.08%\n",
            "Time for last epoch:  8m 57s\n",
            "Epoch:  7/15 ---- Train loss: 0.050 ---- Val loss: 0.121 ---- Acc: 98.08%\n",
            "Time for last epoch:  8m 57s\n",
            "Epoch:  8/15 ---- Train loss: 0.039 ---- Val loss: 0.111 ---- Acc: 98.32%\n",
            "Time for last epoch:  8m 56s\n",
            "Epoch:  9/15 ---- Train loss: 0.032 ---- Val loss: 0.103 ---- Acc: 98.46%\n",
            "Time for last epoch:  8m 56s\n",
            "Epoch: 10/15 ---- Train loss: 0.025 ---- Val loss: 0.101 ---- Acc: 98.32%\n",
            "Time for last epoch:  8m 55s\n",
            "Epoch: 11/15 ---- Train loss: 0.021 ---- Val loss: 0.100 ---- Acc: 98.08%\n",
            "Time for last epoch:  8m 56s\n",
            "Epoch: 12/15 ---- Train loss: 0.020 ---- Val loss: 0.096 ---- Acc: 98.44%\n",
            "Time for last epoch:  8m 56s\n",
            "Epoch: 13/15 ---- Train loss: 0.016 ---- Val loss: 0.091 ---- Acc: 98.44%\n",
            "Time for last epoch:  8m 55s\n"
          ],
          "name": "stdout"
        }
      ]
    },
    {
      "metadata": {
        "id": "hYvDaqViTh8s",
        "colab_type": "code",
        "colab": {}
      },
      "cell_type": "code",
      "source": [
        "save_model(model)"
      ],
      "execution_count": 0,
      "outputs": []
    }
  ]
}