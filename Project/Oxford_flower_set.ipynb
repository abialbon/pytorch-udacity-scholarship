{
  "nbformat": 4,
  "nbformat_minor": 0,
  "metadata": {
    "colab": {
      "name": "Oxford flower set.ipynb",
      "version": "0.3.2",
      "provenance": [],
      "include_colab_link": true
    },
    "kernelspec": {
      "name": "python3",
      "display_name": "Python 3"
    },
    "accelerator": "GPU"
  },
  "cells": [
    {
      "cell_type": "markdown",
      "metadata": {
        "id": "view-in-github",
        "colab_type": "text"
      },
      "source": [
        "<a href=\"https://colab.research.google.com/github/abialbon/pytorch-udacity-scholarship/blob/master/Project/Oxford_flower_set.ipynb\" target=\"_parent\"><img src=\"https://colab.research.google.com/assets/colab-badge.svg\" alt=\"Open In Colab\"/></a>"
      ]
    },
    {
      "metadata": {
        "id": "wMGRlvifAxMv",
        "colab_type": "code",
        "colab": {}
      },
      "cell_type": "code",
      "source": [
        "from google.colab import drive\n",
        "drive.mount('/content/drive')"
      ],
      "execution_count": 0,
      "outputs": []
    },
    {
      "metadata": {
        "id": "PS8vqM2YAlez",
        "colab_type": "code",
        "colab": {}
      },
      "cell_type": "code",
      "source": [
        "!wget -cq https://s3.amazonaws.com/fast-ai-imageclas/oxford-102-flowers.tgz\n",
        "!tar xzf oxford-102-flowers.tgz\n",
        "!wget https://raw.githubusercontent.com/udacity/pytorch_challenge/master/cat_to_name.json"
      ],
      "execution_count": 0,
      "outputs": []
    },
    {
      "metadata": {
        "id": "gyLqQBO3AqkV",
        "colab_type": "code",
        "colab": {}
      },
      "cell_type": "code",
      "source": [
        "import json\n",
        "\n",
        "with open('cat_to_name.json', 'r') as f:\n",
        "    classes_to_labels = json.load(f)"
      ],
      "execution_count": 0,
      "outputs": []
    },
    {
      "metadata": {
        "id": "944__xMtONUi",
        "colab_type": "code",
        "colab": {}
      },
      "cell_type": "code",
      "source": [
        "import os\n",
        "os.chdir('oxford-102-flowers')"
      ],
      "execution_count": 0,
      "outputs": []
    },
    {
      "metadata": {
        "id": "_17vVDaqCPFC",
        "colab_type": "code",
        "colab": {}
      },
      "cell_type": "code",
      "source": [
        "file_label_mapper = {}"
      ],
      "execution_count": 0,
      "outputs": []
    },
    {
      "metadata": {
        "id": "2RTr0N9qC6-E",
        "colab_type": "code",
        "colab": {}
      },
      "cell_type": "code",
      "source": [
        "txt_files = ['train.txt', 'valid.txt', 'test.txt']\n",
        "for t in txt_files:\n",
        "    with open(t, 'r') as f:\n",
        "        for line in f.readlines():\n",
        "            line = line.split()\n",
        "            file = line[0].strip()\n",
        "            label = str(int(line[1].strip()) + 1)\n",
        "            file_label_mapper[file] = label"
      ],
      "execution_count": 0,
      "outputs": []
    },
    {
      "metadata": {
        "id": "mVrbpD00DPU0",
        "colab_type": "code",
        "colab": {}
      },
      "cell_type": "code",
      "source": [
        "import pickle\n",
        "pickle.dump(file_label_mapper, open('mapper.p', 'wb'))"
      ],
      "execution_count": 0,
      "outputs": []
    },
    {
      "metadata": {
        "id": "t_5Fr6pqD3hr",
        "colab_type": "code",
        "colab": {}
      },
      "cell_type": "code",
      "source": [
        "import pickle\n",
        "file_label_mapper = pickle.load(open('oxford-102-flowers/mapper.p', 'rb'))"
      ],
      "execution_count": 0,
      "outputs": []
    },
    {
      "metadata": {
        "id": "pfuTyXIjQHKw",
        "colab_type": "code",
        "colab": {}
      },
      "cell_type": "code",
      "source": [
        "os.mkdir('combined')"
      ],
      "execution_count": 0,
      "outputs": []
    },
    {
      "metadata": {
        "id": "arpq2IJnF-0d",
        "colab_type": "code",
        "colab": {}
      },
      "cell_type": "code",
      "source": [
        "list_files = os.listdir('jpg')\n",
        "for f in list_files:\n",
        "    file_name = 'jpg/' + f\n",
        "    dir_dest = file_label_mapper[file_name]\n",
        "    dir_dest = 'combined/' + dir_dest\n",
        "    file_dest = dir_dest + '/' + f\n",
        "    if os.path.exists(dir_dest):\n",
        "        os.replace(file_name, file_dest)\n",
        "    else:\n",
        "        os.mkdir(dir_dest)\n",
        "        os.replace(file_name, file_dest)"
      ],
      "execution_count": 0,
      "outputs": []
    },
    {
      "metadata": {
        "id": "DRNjGuxZAC28",
        "colab_type": "code",
        "colab": {}
      },
      "cell_type": "code",
      "source": [
        "# http://pytorch.org/\n",
        "from os.path import exists\n",
        "from wheel.pep425tags import get_abbr_impl, get_impl_ver, get_abi_tag\n",
        "platform = '{}{}-{}'.format(get_abbr_impl(), get_impl_ver(), get_abi_tag())\n",
        "cuda_output = !ldconfig -p|grep cudart.so|sed -e 's/.*\\.\\([0-9]*\\)\\.\\([0-9]*\\)$/cu\\1\\2/'\n",
        "accelerator = cuda_output[0] if exists('/dev/nvidia0') else 'cpu'\n",
        "\n",
        "!pip install -q http://download.pytorch.org/whl/{accelerator}/torch-0.4.1-{platform}-linux_x86_64.whl torchvision\n"
      ],
      "execution_count": 0,
      "outputs": []
    },
    {
      "metadata": {
        "id": "lHhOi9XQADjy",
        "colab_type": "code",
        "colab": {}
      },
      "cell_type": "code",
      "source": [
        "# All imports\n",
        "import time\n",
        "import torch\n",
        "import numpy as np\n",
        "from torchvision import datasets, models, transforms\n",
        "from torch import nn\n",
        "import torch.nn.functional as F\n",
        "from torch import optim\n",
        "\n",
        "device = 'cuda' if torch.cuda.is_available() else 'cpu'\n",
        "device\n",
        "print(torch.__version__)"
      ],
      "execution_count": 0,
      "outputs": []
    },
    {
      "metadata": {
        "id": "1GS86dPMAFmK",
        "colab_type": "code",
        "colab": {}
      },
      "cell_type": "code",
      "source": [
        "train_transforms = transforms.Compose([transforms.RandomHorizontalFlip(p=0.3),\n",
        "                                       transforms.RandomRotation(20),\n",
        "                                       transforms.RandomAffine(20),\n",
        "                                       transforms.Resize(256),\n",
        "                                       transforms.CenterCrop(224),\n",
        "                                       transforms.ToTensor(),\n",
        "                                       transforms.Normalize(mean = [0.485, 0.456, 0.406], std = [0.229, 0.224, 0.225])])\n",
        "\n",
        "trainset = datasets.ImageFolder('oxford-102-flowers/combined', transform=train_transforms)\n",
        "train_loader = torch.utils.data.DataLoader(trainset, batch_size=32, shuffle=True)"
      ],
      "execution_count": 0,
      "outputs": []
    },
    {
      "metadata": {
        "id": "DB34UXFkASzv",
        "colab_type": "code",
        "colab": {}
      },
      "cell_type": "code",
      "source": [
        "%%capture\n",
        "fc = nn.Sequential(nn.Linear(2048, 102),\n",
        "                  nn.LogSoftmax(dim=1))\n",
        "\n",
        "model = models.resnet152(pretrained=True)\n",
        "\n",
        "model.fc = fc\n",
        "model.to(device)\n",
        "criteria = nn.NLLLoss()\n",
        "optimizer = optim.SGD(model.parameters(), lr=0.01, momentum=0.9)\n",
        "scheduler = torch.optim.lr_scheduler.StepLR(optimizer, step_size=5, gamma=0.1)"
      ],
      "execution_count": 0,
      "outputs": []
    },
    {
      "metadata": {
        "id": "wO5WhY03As98",
        "colab_type": "code",
        "colab": {}
      },
      "cell_type": "code",
      "source": [
        "def save_model(model):\n",
        "    dict_to_save = {\n",
        "        'class_to_idx': trainset.class_to_idx,\n",
        "        'input_layers': 2048,\n",
        "        'output_layers': len(classes_to_labels),\n",
        "        'state_dict': model.cpu().state_dict()\n",
        "    }\n",
        "    torch.save(dict_to_save, 'drive/My Drive/job_/model_over_train.pt')"
      ],
      "execution_count": 0,
      "outputs": []
    },
    {
      "metadata": {
        "id": "IaMAlYjyBLiN",
        "colab_type": "code",
        "colab": {}
      },
      "cell_type": "code",
      "source": [
        "def train(n_epochs, model, criteria, optimizer, scheduler, log_path):\n",
        "    for e in range(n_epochs):\n",
        "        accuracy = 0\n",
        "        start = time.time()\n",
        "        train_loss = 0\n",
        "        model.train()\n",
        "        for images, labels in train_loader:\n",
        "            images, labels = images.to(device), labels.to(device)\n",
        "            \n",
        "            output = model.forward(images)\n",
        "            loss = criteria(output, labels)\n",
        "            train_loss += loss.item()\n",
        "            \n",
        "            optimizer.zero_grad()\n",
        "            loss.backward()\n",
        "            optimizer.step()\n",
        "        else:\n",
        "            scheduler.step()\n",
        "            if (e+1) % 5 == 0:\n",
        "                with torch.no_grad():\n",
        "                    model.eval()\n",
        "\n",
        "                    for images, labels in train_loader:\n",
        "                        images, labels = images.to(device), labels.to(device)\n",
        "\n",
        "                        output = model.forward(images)\n",
        "                        probs = torch.exp(output)\n",
        "                        prob, top_c = probs.topk(1)\n",
        "\n",
        "                        equals = top_c.squeeze() == labels\n",
        "                        equals = equals.type(torch.FloatTensor).mean()\n",
        "                        accuracy += equals.item()\n",
        "\n",
        "                    else:\n",
        "                        print('Accuracy: {:3.3f}'.format(accuracy/len(train_loader) * 100))\n",
        "                        \n",
        "            else:\n",
        "                end = time.time()\n",
        "                total_time = end - start\n",
        "                metric_string = 'Epoch: {:2d}/{:2d} ---- Train loss: {:3.3f}'.format(e+1, n_epochs, train_loss/len(train_loader))        \n",
        "\n",
        "                print(metric_string)\n",
        "                print('Time for last epoch: {:2d}m {:2d}s'.format(int(total_time//60), int(total_time % 60)))"
      ],
      "execution_count": 0,
      "outputs": []
    },
    {
      "metadata": {
        "id": "qaiDojWWBsPN",
        "colab_type": "code",
        "colab": {}
      },
      "cell_type": "code",
      "source": [
        "train(15, model, criteria, optimizer, scheduler, 'drive/My Drive/job_/overtrain.txt') "
      ],
      "execution_count": 0,
      "outputs": []
    },
    {
      "metadata": {
        "id": "mxADVXr_IjnF",
        "colab_type": "code",
        "colab": {}
      },
      "cell_type": "code",
      "source": [
        "save_model(model)"
      ],
      "execution_count": 0,
      "outputs": []
    }
  ]
}