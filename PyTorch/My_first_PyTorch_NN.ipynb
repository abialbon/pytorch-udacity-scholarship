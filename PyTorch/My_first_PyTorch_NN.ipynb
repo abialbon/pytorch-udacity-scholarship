{
  "nbformat": 4,
  "nbformat_minor": 0,
  "metadata": {
    "colab": {
      "name": "My first PyTorch NN.ipynb",
      "version": "0.3.2",
      "provenance": [],
      "include_colab_link": true
    },
    "kernelspec": {
      "name": "python3",
      "display_name": "Python 3"
    },
    "accelerator": "GPU"
  },
  "cells": [
    {
      "cell_type": "markdown",
      "metadata": {
        "id": "view-in-github",
        "colab_type": "text"
      },
      "source": [
        "<a href=\"https://colab.research.google.com/github/abialbon/pytorch-udacity-scholarship/blob/master/PyTorch/My_first_PyTorch_NN.ipynb\" target=\"_parent\"><img src=\"https://colab.research.google.com/assets/colab-badge.svg\" alt=\"Open In Colab\"/></a>"
      ]
    },
    {
      "metadata": {
        "id": "94j-Cany7Hf7",
        "colab_type": "text"
      },
      "cell_type": "markdown",
      "source": [
        "### Installing PyTorch in Google Drive"
      ]
    },
    {
      "metadata": {
        "id": "Ce8uizbc7gRE",
        "colab_type": "code",
        "colab": {
          "base_uri": "https://localhost:8080/",
          "height": 54
        },
        "outputId": "79e9350b-ea16-4d4a-ac7b-13ac0dc63a30"
      },
      "cell_type": "code",
      "source": [
        "# http://pytorch.org/\n",
        "from os.path import exists\n",
        "from wheel.pep425tags import get_abbr_impl, get_impl_ver, get_abi_tag\n",
        "platform = '{}{}-{}'.format(get_abbr_impl(), get_impl_ver(), get_abi_tag())\n",
        "cuda_output = !ldconfig -p|grep cudart.so|sed -e 's/.*\\.\\([0-9]*\\)\\.\\([0-9]*\\)$/cu\\1\\2/'\n",
        "accelerator = cuda_output[0] if exists('/dev/nvidia0') else 'cpu'\n",
        "\n",
        "!pip install -q http://download.pytorch.org/whl/{accelerator}/torch-0.4.1-{platform}-linux_x86_64.whl torchvision\n"
      ],
      "execution_count": 1,
      "outputs": [
        {
          "output_type": "stream",
          "text": [
            "tcmalloc: large alloc 1073750016 bytes == 0x5778e000 @  0x7ff65bdb82a4 0x594e17 0x626104 0x51190a 0x4f5277 0x510c78 0x5119bd 0x4f5277 0x4f3338 0x510fb0 0x5119bd 0x4f5277 0x4f3338 0x510fb0 0x5119bd 0x4f5277 0x4f3338 0x510fb0 0x5119bd 0x4f6070 0x510c78 0x5119bd 0x4f5277 0x4f3338 0x510fb0 0x5119bd 0x4f6070 0x4f3338 0x510fb0 0x5119bd 0x4f6070\n"
          ],
          "name": "stdout"
        }
      ]
    },
    {
      "metadata": {
        "id": "EuZnRl729EEo",
        "colab_type": "text"
      },
      "cell_type": "markdown",
      "source": [
        "### Getting the MNIST datasets"
      ]
    },
    {
      "metadata": {
        "id": "QdFeiPwc7oEE",
        "colab_type": "code",
        "colab": {
          "base_uri": "https://localhost:8080/",
          "height": 119
        },
        "outputId": "5ce01b0b-5aa3-4bdd-ff86-3b0d806274a5"
      },
      "cell_type": "code",
      "source": [
        "import torch\n",
        "from torchvision import transforms, datasets\n",
        "\n",
        "# Getting the datasets\n",
        "transform = transforms.Compose([transforms.ToTensor(),\n",
        "                               transforms.Normalize((0.5, 0.5, 0.5), (0.5, 0.5, 0.5))])\n",
        "\n",
        "trainset = datasets.MNIST('~/.pytorch/MNIST_data/', download=True, train=True, transform=transform)\n",
        "trainLoader = torch.utils.data.DataLoader(trainset, batch_size=64, shuffle=True)"
      ],
      "execution_count": 2,
      "outputs": [
        {
          "output_type": "stream",
          "text": [
            "Downloading http://yann.lecun.com/exdb/mnist/train-images-idx3-ubyte.gz\n",
            "Downloading http://yann.lecun.com/exdb/mnist/train-labels-idx1-ubyte.gz\n",
            "Downloading http://yann.lecun.com/exdb/mnist/t10k-images-idx3-ubyte.gz\n",
            "Downloading http://yann.lecun.com/exdb/mnist/t10k-labels-idx1-ubyte.gz\n",
            "Processing...\n",
            "Done!\n"
          ],
          "name": "stdout"
        }
      ]
    },
    {
      "metadata": {
        "id": "DXg3TECg_yOY",
        "colab_type": "text"
      },
      "cell_type": "markdown",
      "source": [
        "### Creating the model"
      ]
    },
    {
      "metadata": {
        "id": "JIsXZv889KtR",
        "colab_type": "code",
        "colab": {}
      },
      "cell_type": "code",
      "source": [
        "from torch import nn\n",
        "from torch import optim\n",
        "\n",
        "model = nn.Sequential(nn.Linear(784, 128),\n",
        "                     nn.ReLU(),\n",
        "                     nn.Linear(128, 64),\n",
        "                     nn.ReLU(),\n",
        "                     nn.Linear(64, 10),\n",
        "                     nn.LogSoftmax(dim=1))\n",
        "\n",
        "criterion = nn.NLLLoss()\n",
        "optimizer = optim.SGD(model.parameters(), lr=0.003)\n"
      ],
      "execution_count": 0,
      "outputs": []
    },
    {
      "metadata": {
        "id": "btb_pWVGITqA",
        "colab_type": "text"
      },
      "cell_type": "markdown",
      "source": [
        "### Training the model"
      ]
    },
    {
      "metadata": {
        "id": "F-XfXx_b_1lA",
        "colab_type": "code",
        "colab": {
          "base_uri": "https://localhost:8080/",
          "height": 102
        },
        "outputId": "27c6d9b2-4c2b-4432-cfbd-25698e521fc0"
      },
      "cell_type": "code",
      "source": [
        "epochs = 5\n",
        "\n",
        "for e in range(epochs):\n",
        "  \n",
        "  r_loss = 0\n",
        "  for images, labels in trainLoader:\n",
        "    optimizer.zero_grad()\n",
        "    images = images.view(images.shape[0], 784)\n",
        "    \n",
        "    output = model.forward(images)\n",
        "    loss = criterion(output, labels)\n",
        "    loss.backward()\n",
        "    optimizer.step()\n",
        "    r_loss += loss.item()\n",
        "  else:\n",
        "    print('Training loss: {}'.format(loss))"
      ],
      "execution_count": 17,
      "outputs": [
        {
          "output_type": "stream",
          "text": [
            "Training loss: 1.3096330165863037\n",
            "Training loss: 0.5288078784942627\n",
            "Training loss: 0.4853459298610687\n",
            "Training loss: 0.4605860710144043\n",
            "Training loss: 0.11457240581512451\n"
          ],
          "name": "stdout"
        }
      ]
    },
    {
      "metadata": {
        "id": "UWFjnqciIXny",
        "colab_type": "text"
      },
      "cell_type": "markdown",
      "source": [
        "### Testing the predictions"
      ]
    },
    {
      "metadata": {
        "id": "Bvv1fGvoCqzo",
        "colab_type": "code",
        "colab": {}
      },
      "cell_type": "code",
      "source": [
        "%matplotlib inline\n",
        "import matplotlib.pyplot as plt\n",
        "import torch.nn.functional as F\n",
        "\n",
        "def predictNumber(index):\n",
        "  plt.imshow(images[index].view(28,28))\n",
        "  predictions = F.softmax(model.forward(images[index].view(1, -1)), dim=1)\n",
        "  predicted_num = (predictions == predictions.max()).nonzero()[0,1].item()\n",
        "  print('The number predicted by the model is: {}'.format(predicted_num))"
      ],
      "execution_count": 0,
      "outputs": []
    },
    {
      "metadata": {
        "id": "oOFfIA-WC7_D",
        "colab_type": "code",
        "colab": {
          "base_uri": "https://localhost:8080/",
          "height": 282
        },
        "outputId": "15d0a23a-8403-4685-eabf-0772e8954341"
      },
      "cell_type": "code",
      "source": [
        "predictNumber(2)"
      ],
      "execution_count": 65,
      "outputs": [
        {
          "output_type": "stream",
          "text": [
            "The number predicted by the model is: 1\n"
          ],
          "name": "stdout"
        },
        {
          "output_type": "display_data",
          "data": {
            "image/png": "[encoded data removed]",
            "text/plain": [
              "<matplotlib.figure.Figure at 0x7f8423d06630>"
            ]
          },
          "metadata": {
            "tags": []
          }
        }
      ]
    }
  ]
}