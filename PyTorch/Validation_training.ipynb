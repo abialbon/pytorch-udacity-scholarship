{
  "nbformat": 4,
  "nbformat_minor": 0,
  "metadata": {
    "colab": {
      "name": "Validation training.ipynb",
      "version": "0.3.2",
      "provenance": [],
      "include_colab_link": true
    },
    "kernelspec": {
      "name": "python3",
      "display_name": "Python 3"
    },
    "accelerator": "GPU"
  },
  "cells": [
    {
      "cell_type": "markdown",
      "metadata": {
        "id": "view-in-github",
        "colab_type": "text"
      },
      "source": [
        "<a href=\"https://colab.research.google.com/github/abialbon/pytorch-udacity-scholarship/blob/master/PyTorch/Validation_training.ipynb\" target=\"_parent\"><img src=\"https://colab.research.google.com/assets/colab-badge.svg\" alt=\"Open In Colab\"/></a>"
      ]
    },
    {
      "metadata": {
        "id": "cbIUcwglxBHV",
        "colab_type": "text"
      },
      "cell_type": "markdown",
      "source": [
        "## Exercise on Validation and Accuracy"
      ]
    },
    {
      "metadata": {
        "id": "psUIOc1cr-eD",
        "colab_type": "code",
        "outputId": "2af8c903-3961-4d58-d0d4-b9b0dbe7b0f5",
        "colab": {
          "base_uri": "https://localhost:8080/",
          "height": 54
        }
      },
      "cell_type": "code",
      "source": [
        "# http://pytorch.org/\n",
        "from os.path import exists\n",
        "from wheel.pep425tags import get_abbr_impl, get_impl_ver, get_abi_tag\n",
        "platform = '{}{}-{}'.format(get_abbr_impl(), get_impl_ver(), get_abi_tag())\n",
        "cuda_output = !ldconfig -p|grep cudart.so|sed -e 's/.*\\.\\([0-9]*\\)\\.\\([0-9]*\\)$/cu\\1\\2/'\n",
        "accelerator = cuda_output[0] if exists('/dev/nvidia0') else 'cpu'\n",
        "\n",
        "!pip install -q http://download.pytorch.org/whl/{accelerator}/torch-0.4.1-{platform}-linux_x86_64.whl torchvision\n"
      ],
      "execution_count": 2,
      "outputs": [
        {
          "output_type": "stream",
          "text": [
            "tcmalloc: large alloc 1073750016 bytes == 0x59310000 @  0x7f40b8f192a4 0x594e17 0x626104 0x51190a 0x4f5277 0x510c78 0x5119bd 0x4f5277 0x4f3338 0x510fb0 0x5119bd 0x4f5277 0x4f3338 0x510fb0 0x5119bd 0x4f5277 0x4f3338 0x510fb0 0x5119bd 0x4f6070 0x510c78 0x5119bd 0x4f5277 0x4f3338 0x510fb0 0x5119bd 0x4f6070 0x4f3338 0x510fb0 0x5119bd 0x4f6070\n"
          ],
          "name": "stdout"
        }
      ]
    },
    {
      "metadata": {
        "id": "jj1pTP-0sc-V",
        "colab_type": "code",
        "colab": {
          "base_uri": "https://localhost:8080/",
          "height": 119
        },
        "outputId": "ecc0110e-134c-402d-b7f4-a11259a8bfd9"
      },
      "cell_type": "code",
      "source": [
        "import torch\n",
        "from torchvision import transforms, datasets\n",
        "\n",
        "transform = transforms.Compose([transforms.ToTensor(),\n",
        "                               transforms.Normalize((0.5, 0.5, 0.5), (0.5, 0.5, 0.5))])\n",
        "\n",
        "training_data = datasets.FashionMNIST('~/fasion', train=True, download=True, transform=transform)\n",
        "trainset = torch.utils.data.DataLoader(training_data, shuffle=True, batch_size=64)\n",
        "\n",
        "testing_data = datasets.FashionMNIST('~/fasion', train=True, download=False, transform=transform)\n",
        "testset = torch.utils.data.DataLoader(testing_data, shuffle=True, batch_size=64)"
      ],
      "execution_count": 3,
      "outputs": [
        {
          "output_type": "stream",
          "text": [
            "Downloading http://fashion-mnist.s3-website.eu-central-1.amazonaws.com/train-images-idx3-ubyte.gz\n",
            "Downloading http://fashion-mnist.s3-website.eu-central-1.amazonaws.com/train-labels-idx1-ubyte.gz\n",
            "Downloading http://fashion-mnist.s3-website.eu-central-1.amazonaws.com/t10k-images-idx3-ubyte.gz\n",
            "Downloading http://fashion-mnist.s3-website.eu-central-1.amazonaws.com/t10k-labels-idx1-ubyte.gz\n",
            "Processing...\n",
            "Done!\n"
          ],
          "name": "stdout"
        }
      ]
    },
    {
      "metadata": {
        "id": "SG8Xpghgu8En",
        "colab_type": "code",
        "outputId": "121ae476-93c1-48e6-94f3-5d2a3c6d8ef6",
        "colab": {
          "base_uri": "https://localhost:8080/",
          "height": 136
        }
      },
      "cell_type": "code",
      "source": [
        "from torch import nn\n",
        "import torch.nn.functional as F\n",
        "from torch import optim\n",
        "\n",
        "class Classifier(nn.Module):\n",
        "  def __init__(self):\n",
        "    super().__init__()\n",
        "    self.fc1 = nn.Linear(784, 256)\n",
        "    self.fc2 = nn.Linear(256, 64)\n",
        "    self.fc3 = nn.Linear(64, 10)\n",
        "    \n",
        "    self.ReLU = nn.ReLU()\n",
        "    self.LogSoftmax = nn.LogSoftmax(dim=1)\n",
        "    \n",
        "\n",
        "  def forward(self, x):\n",
        "    x = self.fc1(x)\n",
        "    x = self.ReLU(x)\n",
        "    x = self.fc2(x)\n",
        "    x = self.ReLU(x)\n",
        "    x = self.fc3(x)\n",
        "    x = self.LogSoftmax(x)\n",
        "    \n",
        "    return x\n",
        "  \n",
        "model = Classifier()\n",
        "criterion = nn.NLLLoss()\n",
        "optimizer = optim.Adam(model.parameters(), lr=0.010)\n",
        "print(model)"
      ],
      "execution_count": 18,
      "outputs": [
        {
          "output_type": "stream",
          "text": [
            "Classifier(\n",
            "  (fc1): Linear(in_features=784, out_features=256, bias=True)\n",
            "  (fc2): Linear(in_features=256, out_features=64, bias=True)\n",
            "  (fc3): Linear(in_features=64, out_features=10, bias=True)\n",
            "  (ReLU): ReLU()\n",
            "  (LogSoftmax): LogSoftmax()\n",
            ")\n"
          ],
          "name": "stdout"
        }
      ]
    },
    {
      "metadata": {
        "id": "8MgovZgLkvTT",
        "colab_type": "code",
        "colab": {
          "base_uri": "https://localhost:8080/",
          "height": 1037
        },
        "outputId": "81338d77-a1b2-4f63-8373-9d09238c42a4"
      },
      "cell_type": "code",
      "source": [
        "training_loss = []\n",
        "testing_loss = []\n",
        "\n",
        "epochs = 20\n",
        "\n",
        "for e in range(epochs):\n",
        "  \n",
        "  #Training the model\n",
        "  running_train_loss = 0\n",
        "  for images, labels in trainset:\n",
        "    images = images.view(images.shape[0], 784)\n",
        "    \n",
        "    optimizer.zero_grad()\n",
        "    \n",
        "    output = model.forward(images)\n",
        "    loss = criterion(output, labels)\n",
        "    running_train_loss += loss.item()\n",
        "    \n",
        "    loss.backward()\n",
        "    optimizer.step()\n",
        "  else:\n",
        "    training_loss.append(running_train_loss)\n",
        "    print('Epoch: {} ######'.format(e + 1))\n",
        "    print('Training loss: {:.2f}'.format(running_train_loss))\n",
        "    \n",
        "    # Validating the model from testset\n",
        "    with torch.no_grad():\n",
        "      running_test_loss = 0\n",
        "      for images, labels in testset:\n",
        "        images = images.view(images.shape[0], 784)\n",
        "\n",
        "        output = model.forward(images)\n",
        "        loss = criterion(output, labels)\n",
        "        running_test_loss += loss.item()\n",
        "      else:\n",
        "        testing_loss.append(running_test_loss)\n",
        "        print('Testling loss: {:.2f}'.format(running_test_loss))\n",
        "      "
      ],
      "execution_count": 19,
      "outputs": [
        {
          "output_type": "stream",
          "text": [
            "Epoch: 1 ######\n",
            "Training loss: 510.33\n",
            "Testling loss: 444.59\n",
            "Epoch: 2 ######\n",
            "Training loss: 418.09\n",
            "Testling loss: 381.27\n",
            "Epoch: 3 ######\n",
            "Training loss: 389.77\n",
            "Testling loss: 393.73\n",
            "Epoch: 4 ######\n",
            "Training loss: 379.85\n",
            "Testling loss: 355.87\n",
            "Epoch: 5 ######\n",
            "Training loss: 375.22\n",
            "Testling loss: 358.67\n",
            "Epoch: 6 ######\n",
            "Training loss: 361.62\n",
            "Testling loss: 393.44\n",
            "Epoch: 7 ######\n",
            "Training loss: 358.81\n",
            "Testling loss: 343.88\n",
            "Epoch: 8 ######\n",
            "Training loss: 342.09\n",
            "Testling loss: 332.96\n",
            "Epoch: 9 ######\n",
            "Training loss: 343.28\n",
            "Testling loss: 318.03\n",
            "Epoch: 10 ######\n",
            "Training loss: 342.51\n",
            "Testling loss: 329.65\n",
            "Epoch: 11 ######\n",
            "Training loss: 331.38\n",
            "Testling loss: 305.49\n",
            "Epoch: 12 ######\n",
            "Training loss: 334.68\n",
            "Testling loss: 320.84\n",
            "Epoch: 13 ######\n",
            "Training loss: 336.49\n",
            "Testling loss: 356.88\n",
            "Epoch: 14 ######\n",
            "Training loss: 331.11\n",
            "Testling loss: 303.55\n",
            "Epoch: 15 ######\n",
            "Training loss: 321.23\n",
            "Testling loss: 343.78\n",
            "Epoch: 16 ######\n",
            "Training loss: 322.69\n",
            "Testling loss: 288.70\n",
            "Epoch: 17 ######\n",
            "Training loss: 321.76\n",
            "Testling loss: 352.93\n",
            "Epoch: 18 ######\n",
            "Training loss: 318.01\n",
            "Testling loss: 299.00\n",
            "Epoch: 19 ######\n",
            "Training loss: 320.77\n",
            "Testling loss: 294.63\n",
            "Epoch: 20 ######\n",
            "Training loss: 311.55\n",
            "Testling loss: 300.13\n"
          ],
          "name": "stdout"
        }
      ]
    },
    {
      "metadata": {
        "id": "DWymulV0r63p",
        "colab_type": "code",
        "colab": {
          "base_uri": "https://localhost:8080/",
          "height": 282
        },
        "outputId": "8155bd30-4fac-480d-dd8e-32425ac5182e"
      },
      "cell_type": "code",
      "source": [
        "%matplotlib inline\n",
        "import matplotlib.pyplot as plt\n",
        "plt.plot(training_loss)\n",
        "plt.plot(testing_loss)"
      ],
      "execution_count": 20,
      "outputs": [
        {
          "output_type": "execute_result",
          "data": {
            "text/plain": [
              "[<matplotlib.lines.Line2D at 0x7f9671c85160>]"
            ]
          },
          "metadata": {
            "tags": []
          },
          "execution_count": 20
        },
        {
          "output_type": "display_data",
          "data": {
            "image/png": "[encoded data removed]",
            "text/plain": [
              "<matplotlib.figure.Figure at 0x7f96aa4afb70>"
            ]
          },
          "metadata": {
            "tags": []
          }
        }
      ]
    },
    {
      "metadata": {
        "id": "WJbfb_UksItU",
        "colab_type": "code",
        "colab": {
          "base_uri": "https://localhost:8080/",
          "height": 34
        },
        "outputId": "721276e7-47a1-41fe-f00c-555b5f3218f7"
      },
      "cell_type": "code",
      "source": [
        "import numpy as np\n",
        "\n",
        "# Calculating the accuracy\n",
        "with torch.no_grad():\n",
        "  accuracy = np.array([])\n",
        "  for images, labels in trainset:\n",
        "    images = images.view(images.shape[0], 784)\n",
        "    \n",
        "    output = model.forward(images)\n",
        "    ps = torch.exp(output)\n",
        "    \n",
        "    top_p, top_class = ps.topk(1, dim=1)\n",
        "    equals = top_class == labels.view(*top_class.shape)\n",
        "    equals = equals.type(torch.FloatTensor)\n",
        "    accuracy = np.append(accuracy, torch.mean(equals).item())\n",
        "  else:\n",
        "    print('The accuracy is: {:.2f}%'.format(accuracy.mean()*100))"
      ],
      "execution_count": 37,
      "outputs": [
        {
          "output_type": "stream",
          "text": [
            "The accuracy is: 88.55%\n"
          ],
          "name": "stdout"
        }
      ]
    }
  ]
}