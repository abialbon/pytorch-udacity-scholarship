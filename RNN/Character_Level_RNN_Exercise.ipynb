{
  "nbformat": 4,
  "nbformat_minor": 0,
  "metadata": {
    "colab": {
      "name": "Character_Level_RNN_Exercise.ipynb",
      "version": "0.3.2",
      "provenance": [],
      "toc_visible": true,
      "include_colab_link": true
    },
    "kernelspec": {
      "name": "python3",
      "display_name": "Python 3"
    },
    "accelerator": "GPU"
  },
  "cells": [
    {
      "cell_type": "markdown",
      "metadata": {
        "id": "view-in-github",
        "colab_type": "text"
      },
      "source": [
        "<a href=\"https://colab.research.google.com/github/abialbon/pytorch-udacity-scholarship/blob/master/RNN/Character_Level_RNN_Exercise.ipynb\" target=\"_parent\"><img src=\"https://colab.research.google.com/assets/colab-badge.svg\" alt=\"Open In Colab\"/></a>"
      ]
    },
    {
      "metadata": {
        "id": "mN-pbo0tU_Yx",
        "colab_type": "code",
        "outputId": "d41d9fca-f34c-48e8-824c-54f31008b1a7",
        "colab": {
          "base_uri": "https://localhost:8080/",
          "height": 54
        }
      },
      "cell_type": "code",
      "source": [
        "# http://pytorch.org/\n",
        "from os.path import exists\n",
        "from wheel.pep425tags import get_abbr_impl, get_impl_ver, get_abi_tag\n",
        "platform = '{}{}-{}'.format(get_abbr_impl(), get_impl_ver(), get_abi_tag())\n",
        "cuda_output = !ldconfig -p|grep cudart.so|sed -e 's/.*\\.\\([0-9]*\\)\\.\\([0-9]*\\)$/cu\\1\\2/'\n",
        "accelerator = cuda_output[0] if exists('/dev/nvidia0') else 'cpu'\n",
        "\n",
        "!pip install -q http://download.pytorch.org/whl/{accelerator}/torch-0.4.1-{platform}-linux_x86_64.whl torchvision\n"
      ],
      "execution_count": 1,
      "outputs": [
        {
          "output_type": "stream",
          "text": [
            "tcmalloc: large alloc 1073750016 bytes == 0x57ed2000 @  0x7fad5eac62a4 0x591a07 0x5b5d56 0x502e9a 0x506859 0x502209 0x502f3d 0x506859 0x504c28 0x502540 0x502f3d 0x506859 0x504c28 0x502540 0x502f3d 0x506859 0x504c28 0x502540 0x502f3d 0x507641 0x502209 0x502f3d 0x506859 0x504c28 0x502540 0x502f3d 0x507641 0x504c28 0x502540 0x502f3d 0x507641\n"
          ],
          "name": "stdout"
        }
      ]
    },
    {
      "metadata": {
        "id": "d4CPm0BeVGuf",
        "colab_type": "code",
        "outputId": "9d72bc89-1337-4076-a4a2-103ad7ab9b10",
        "colab": {
          "base_uri": "https://localhost:8080/",
          "height": 224
        }
      },
      "cell_type": "code",
      "source": [
        "!wget https://raw.githubusercontent.com/abialbon/deep-learning-v2-pytorch/master/recurrent-neural-networks/char-rnn/data/anna.txt"
      ],
      "execution_count": 2,
      "outputs": [
        {
          "output_type": "stream",
          "text": [
            "--2018-11-25 22:21:50--  https://raw.githubusercontent.com/abialbon/deep-learning-v2-pytorch/master/recurrent-neural-networks/char-rnn/data/anna.txt\n",
            "Resolving raw.githubusercontent.com (raw.githubusercontent.com)... 151.101.0.133, 151.101.64.133, 151.101.128.133, ...\n",
            "Connecting to raw.githubusercontent.com (raw.githubusercontent.com)|151.101.0.133|:443... connected.\n",
            "HTTP request sent, awaiting response... 200 OK\n",
            "Length: 2025486 (1.9M) [text/plain]\n",
            "Saving to: ‘anna.txt’\n",
            "\n",
            "\ranna.txt              0%[                    ]       0  --.-KB/s               \ranna.txt             72%[=============>      ]   1.40M  6.98MB/s               \ranna.txt            100%[===================>]   1.93M  7.98MB/s    in 0.2s    \n",
            "\n",
            "2018-11-25 22:21:50 (7.98 MB/s) - ‘anna.txt’ saved [2025486/2025486]\n",
            "\n"
          ],
          "name": "stdout"
        }
      ]
    },
    {
      "metadata": {
        "id": "manfJw4JUzTc",
        "colab_type": "text"
      },
      "cell_type": "markdown",
      "source": [
        "# Character-Level LSTM in PyTorch\n",
        "\n",
        "In this notebook, I'll construct a character-level LSTM with PyTorch. The network will train character by character on some text, then generate new text character by character. As an example, I will train on Anna Karenina. **This model will be able to generate new text based on the text from the book!**\n",
        "\n",
        "This network is based off of Andrej Karpathy's [post on RNNs](http://karpathy.github.io/2015/05/21/rnn-effectiveness/) and [implementation in Torch](https://github.com/karpathy/char-rnn). Below is the general architecture of the character-wise RNN.\n",
        "\n",
        "<img src=\"https://github.com/abialbon/deep-learning-v2-pytorch/blob/master/recurrent-neural-networks/char-rnn/assets/charseq.jpeg?raw=1\" width=\"500\">"
      ]
    },
    {
      "metadata": {
        "id": "zW4GW8-PUzTd",
        "colab_type": "text"
      },
      "cell_type": "markdown",
      "source": [
        "First let's load in our required resources for data loading and model creation."
      ]
    },
    {
      "metadata": {
        "id": "UawMAKyPUzTf",
        "colab_type": "code",
        "colab": {}
      },
      "cell_type": "code",
      "source": [
        "import numpy as np\n",
        "import torch\n",
        "from torch import nn\n",
        "import torch.nn.functional as F"
      ],
      "execution_count": 0,
      "outputs": []
    },
    {
      "metadata": {
        "id": "SrPVpv9VUzTk",
        "colab_type": "text"
      },
      "cell_type": "markdown",
      "source": [
        "## Load in Data\n",
        "\n",
        "Then, we'll load the Anna Karenina text file and convert it into integers for our network to use. "
      ]
    },
    {
      "metadata": {
        "id": "DCHhZ2CtUzTl",
        "colab_type": "code",
        "colab": {}
      },
      "cell_type": "code",
      "source": [
        "# open text file and read in data as `text`\n",
        "with open('anna.txt', 'r') as f:\n",
        "    text = f.read()"
      ],
      "execution_count": 0,
      "outputs": []
    },
    {
      "metadata": {
        "id": "wMTgSp5TUzTo",
        "colab_type": "text"
      },
      "cell_type": "markdown",
      "source": [
        "Let's check out the first 100 characters, make sure everything is peachy. According to the [American Book Review](http://americanbookreview.org/100bestlines.asp), this is the 6th best first line of a book ever."
      ]
    },
    {
      "metadata": {
        "id": "90gQM7U2UzTp",
        "colab_type": "code",
        "outputId": "081fa824-de14-43d5-b593-5b6eeedbd954",
        "colab": {
          "base_uri": "https://localhost:8080/",
          "height": 34
        }
      },
      "cell_type": "code",
      "source": [
        "text[:100]"
      ],
      "execution_count": 5,
      "outputs": [
        {
          "output_type": "execute_result",
          "data": {
            "text/plain": [
              "'Chapter 1\\n\\n\\nHappy families are all alike; every unhappy family is unhappy in its own\\nway.\\n\\nEverythin'"
            ]
          },
          "metadata": {
            "tags": []
          },
          "execution_count": 5
        }
      ]
    },
    {
      "metadata": {
        "id": "xmHWwlJfUzTs",
        "colab_type": "text"
      },
      "cell_type": "markdown",
      "source": [
        "### Tokenization\n",
        "\n",
        "In the cells, below, I'm creating a couple **dictionaries** to convert the characters to and from integers. Encoding the characters as integers makes it easier to use as input in the network."
      ]
    },
    {
      "metadata": {
        "id": "xokNEQvjUzTv",
        "colab_type": "code",
        "colab": {}
      },
      "cell_type": "code",
      "source": [
        "# encode the text and map each character to an integer and vice versa\n",
        "\n",
        "# we create two dictionaries:\n",
        "# 1. int2char, which maps integers to characters\n",
        "# 2. char2int, which maps characters to unique integers\n",
        "chars = tuple(set(text))\n",
        "int2char = dict(enumerate(chars))\n",
        "char2int = {ch: ii for ii, ch in int2char.items()}\n",
        "\n",
        "# encode the text\n",
        "encoded = np.array([char2int[ch] for ch in text])"
      ],
      "execution_count": 0,
      "outputs": []
    },
    {
      "metadata": {
        "id": "kNf0Yn97UzT1",
        "colab_type": "text"
      },
      "cell_type": "markdown",
      "source": [
        "And we can see those same characters from above, encoded as integers."
      ]
    },
    {
      "metadata": {
        "id": "dJJlnivWUzT4",
        "colab_type": "code",
        "outputId": "4218d7bb-886b-4809-9145-9d5a4baad8e4",
        "colab": {
          "base_uri": "https://localhost:8080/",
          "height": 119
        }
      },
      "cell_type": "code",
      "source": [
        "encoded[:100]"
      ],
      "execution_count": 7,
      "outputs": [
        {
          "output_type": "execute_result",
          "data": {
            "text/plain": [
              "array([ 7, 38, 24, 48,  5, 43, 19, 62, 26, 40, 40, 40, 27, 24, 48, 48, 35,\n",
              "       62, 15, 24, 21, 46, 82, 46, 43, 32, 62, 24, 19, 43, 62, 24, 82, 82,\n",
              "       62, 24, 82, 46, 18, 43, 41, 62, 43, 69, 43, 19, 35, 62, 81, 33, 38,\n",
              "       24, 48, 48, 35, 62, 15, 24, 21, 46, 82, 35, 62, 46, 32, 62, 81, 33,\n",
              "       38, 24, 48, 48, 35, 62, 46, 33, 62, 46,  5, 32, 62, 20, 72, 33, 40,\n",
              "       72, 24, 35, 65, 40, 40, 13, 69, 43, 19, 35,  5, 38, 46, 33])"
            ]
          },
          "metadata": {
            "tags": []
          },
          "execution_count": 7
        }
      ]
    },
    {
      "metadata": {
        "id": "6wSre9dQUzT8",
        "colab_type": "text"
      },
      "cell_type": "markdown",
      "source": [
        "## Pre-processing the data\n",
        "\n",
        "As you can see in our char-RNN image above, our LSTM expects an input that is **one-hot encoded** meaning that each character is converted into an integer (via our created dictionary) and *then* converted into a column vector where only it's corresponding integer index will have the value of 1 and the rest of the vector will be filled with 0's. Since we're one-hot encoding the data, let's make a function to do that!\n"
      ]
    },
    {
      "metadata": {
        "id": "izg21xQbUzT9",
        "colab_type": "code",
        "colab": {}
      },
      "cell_type": "code",
      "source": [
        "def one_hot_encode(arr, n_labels):\n",
        "    \n",
        "    # Initialize the the encoded array\n",
        "    one_hot = np.zeros((np.multiply(*arr.shape), n_labels), dtype=np.float32)\n",
        "    \n",
        "    # Fill the appropriate elements with ones\n",
        "    one_hot[np.arange(one_hot.shape[0]), arr.flatten()] = 1.\n",
        "    \n",
        "    # Finally reshape it to get back to the original array\n",
        "    one_hot = one_hot.reshape((*arr.shape, n_labels))\n",
        "    \n",
        "    return one_hot"
      ],
      "execution_count": 0,
      "outputs": []
    },
    {
      "metadata": {
        "id": "JEnjqhGHUzUB",
        "colab_type": "code",
        "outputId": "c0756cbe-454c-41e9-f336-fca80bd2a83f",
        "colab": {
          "base_uri": "https://localhost:8080/",
          "height": 68
        }
      },
      "cell_type": "code",
      "source": [
        "# check that the function works as expected\n",
        "test_seq = np.array([[3, 5, 1]])\n",
        "one_hot = one_hot_encode(test_seq, 8)\n",
        "\n",
        "print(one_hot)"
      ],
      "execution_count": 9,
      "outputs": [
        {
          "output_type": "stream",
          "text": [
            "[[[0. 0. 0. 1. 0. 0. 0. 0.]\n",
            "  [0. 0. 0. 0. 0. 1. 0. 0.]\n",
            "  [0. 1. 0. 0. 0. 0. 0. 0.]]]\n"
          ],
          "name": "stdout"
        }
      ]
    },
    {
      "metadata": {
        "id": "YS4kLA8jUzUG",
        "colab_type": "text"
      },
      "cell_type": "markdown",
      "source": [
        "## Making training mini-batches\n",
        "\n",
        "\n",
        "To train on this data, we also want to create mini-batches for training. Remember that we want our batches to be multiple sequences of some desired number of sequence steps. Considering a simple example, our batches would look like this:\n",
        "\n",
        "<img src=\"https://github.com/abialbon/deep-learning-v2-pytorch/blob/master/recurrent-neural-networks/char-rnn/assets/sequence_batching@1x.png?raw=1\" width=500px>\n",
        "\n",
        "\n",
        "<br>\n",
        "\n",
        "In this example, we'll take the encoded characters (passed in as the `arr` parameter) and split them into multiple sequences, given by `batch_size`. Each of our sequences will be `seq_length` long.\n",
        "\n",
        "### Creating Batches\n",
        "\n",
        "**1. The first thing we need to do is discard some of the text so we only have completely full mini-batches. **\n",
        "\n",
        "Each batch contains $N \\times M$ characters, where $N$ is the batch size (the number of sequences in a batch) and $M$ is the seq_length or number of time steps in a sequence. Then, to get the total number of batches, $K$, that we can make from the array `arr`, you divide the length of `arr` by the number of characters per batch. Once you know the number of batches, you can get the total number of characters to keep from `arr`, $N * M * K$.\n",
        "\n",
        "**2. After that, we need to split `arr` into $N$ batches. ** \n",
        "\n",
        "You can do this using `arr.reshape(size)` where `size` is a tuple containing the dimensions sizes of the reshaped array. We know we want $N$ sequences in a batch, so let's make that the size of the first dimension. For the second dimension, you can use `-1` as a placeholder in the size, it'll fill up the array with the appropriate data for you. After this, you should have an array that is $N \\times (M * K)$.\n",
        "\n",
        "**3. Now that we have this array, we can iterate through it to get our mini-batches. **\n",
        "\n",
        "The idea is each batch is a $N \\times M$ window on the $N \\times (M * K)$ array. For each subsequent batch, the window moves over by `seq_length`. We also want to create both the input and target arrays. Remember that the targets are just the inputs shifted over by one character. The way I like to do this window is use `range` to take steps of size `n_steps` from $0$ to `arr.shape[1]`, the total number of tokens in each sequence. That way, the integers you get from `range` always point to the start of a batch, and each window is `seq_length` wide.\n",
        "\n",
        "> **TODO:** Write the code for creating batches in the function below. The exercises in this notebook _will not be easy_. I've provided a notebook with solutions alongside this notebook. If you get stuck, checkout the solutions. The most important thing is that you don't copy and paste the code into here, **type out the solution code yourself.**"
      ]
    },
    {
      "metadata": {
        "id": "qwMReGGwUzUH",
        "colab_type": "code",
        "colab": {}
      },
      "cell_type": "code",
      "source": [
        "def get_batches(arr, batch_size, seq_length):\n",
        "    '''Create a generator that returns batches of size\n",
        "       batch_size x seq_length from arr.\n",
        "       \n",
        "       Arguments\n",
        "       ---------\n",
        "       arr: Array you want to make batches from\n",
        "       batch_size: Batch size, the number of sequences per batch\n",
        "       seq_length: Number of encoded chars in a sequence\n",
        "    '''\n",
        "    arr = arr.flatten()\n",
        "    ## TODO: Get the number of batches we can make\n",
        "    n_batches = int(len(arr) / (batch_size * seq_length))\n",
        "    \n",
        "    ## TODO: Keep only enough characters to make full batches\n",
        "    arr = arr[:batch_size * seq_length * n_batches]\n",
        "    print(n_batches)\n",
        "    ## TODO: Reshape into batch_size rows\n",
        "    arr = arr.reshape(batch_size, -1)\n",
        "    ## TODO: Iterate over the batches using a window of size seq_length\n",
        "    for n in range(0, arr.shape[1], seq_length):\n",
        "        # The features\n",
        "        x = arr[:, n: n+seq_length]\n",
        "        # The targets, shifted by one\n",
        "        y = np.zeros_like(x)\n",
        "        try:\n",
        "            y[:, :-1], y[:, -1] = x[:,1:], arr[:, n+seq_length]\n",
        "        except IndexError:\n",
        "            y[:, :-1], y[:, -1] = x[:,1:], arr[:, 0]\n",
        "        yield x, y"
      ],
      "execution_count": 0,
      "outputs": []
    },
    {
      "metadata": {
        "id": "6HevoW2-UzUL",
        "colab_type": "text"
      },
      "cell_type": "markdown",
      "source": [
        "### Test Your Implementation\n",
        "\n",
        "Now I'll make some data sets and we can check out what's going on as we batch data. Here, as an example, I'm going to use a batch size of 8 and 50 sequence steps."
      ]
    },
    {
      "metadata": {
        "id": "VVWOI0hUUzUN",
        "colab_type": "code",
        "outputId": "fda97448-fd0f-4f7b-852f-2a2d43d225df",
        "colab": {
          "base_uri": "https://localhost:8080/",
          "height": 34
        }
      },
      "cell_type": "code",
      "source": [
        "batches = get_batches(encoded, 8, 50)\n",
        "x, y = next(batches)"
      ],
      "execution_count": 11,
      "outputs": [
        {
          "output_type": "stream",
          "text": [
            "4963\n"
          ],
          "name": "stdout"
        }
      ]
    },
    {
      "metadata": {
        "id": "iJgs1WQuUzUQ",
        "colab_type": "code",
        "outputId": "1bf5312f-b7c9-4d83-83b8-b3818a2c72b7",
        "colab": {
          "base_uri": "https://localhost:8080/",
          "height": 340
        }
      },
      "cell_type": "code",
      "source": [
        "# printing out the first 10 items in a sequence\n",
        "print('x\\n', x[:10, :10])\n",
        "print('\\ny\\n', y[:10, :10])"
      ],
      "execution_count": 12,
      "outputs": [
        {
          "output_type": "stream",
          "text": [
            "x\n",
            " [[ 7 38 24 48  5 43 19 62 26 40]\n",
            " [32 20 33 62  5 38 24  5 62 24]\n",
            " [43 33 57 62 20 19 62 24 62 15]\n",
            " [32 62  5 38 43 62 76 38 46 43]\n",
            " [62 32 24 72 62 38 43 19 62  5]\n",
            " [76 81 32 32 46 20 33 62 24 33]\n",
            " [62 23 33 33 24 62 38 24 57 62]\n",
            " [29 28 82 20 33 32 18 35 65 62]]\n",
            "\n",
            "y\n",
            " [[38 24 48  5 43 19 62 26 40 40]\n",
            " [20 33 62  5 38 24  5 62 24  5]\n",
            " [33 57 62 20 19 62 24 62 15 20]\n",
            " [62  5 38 43 62 76 38 46 43 15]\n",
            " [32 24 72 62 38 43 19 62  5 43]\n",
            " [81 32 32 46 20 33 62 24 33 57]\n",
            " [23 33 33 24 62 38 24 57 62 32]\n",
            " [28 82 20 33 32 18 35 65 62 52]]\n"
          ],
          "name": "stdout"
        }
      ]
    },
    {
      "metadata": {
        "id": "MNGd10YAUzUY",
        "colab_type": "text"
      },
      "cell_type": "markdown",
      "source": [
        "If you implemented `get_batches` correctly, the above output should look something like \n",
        "```\n",
        "x\n",
        " [[25  8 60 11 45 27 28 73  1  2]\n",
        " [17  7 20 73 45  8 60 45 73 60]\n",
        " [27 20 80 73  7 28 73 60 73 65]\n",
        " [17 73 45  8 27 73 66  8 46 27]\n",
        " [73 17 60 12 73  8 27 28 73 45]\n",
        " [66 64 17 17 46  7 20 73 60 20]\n",
        " [73 76 20 20 60 73  8 60 80 73]\n",
        " [47 35 43  7 20 17 24 50 37 73]]\n",
        "\n",
        "y\n",
        " [[ 8 60 11 45 27 28 73  1  2  2]\n",
        " [ 7 20 73 45  8 60 45 73 60 45]\n",
        " [20 80 73  7 28 73 60 73 65  7]\n",
        " [73 45  8 27 73 66  8 46 27 65]\n",
        " [17 60 12 73  8 27 28 73 45 27]\n",
        " [64 17 17 46  7 20 73 60 20 80]\n",
        " [76 20 20 60 73  8 60 80 73 17]\n",
        " [35 43  7 20 17 24 50 37 73 36]]\n",
        " ```\n",
        " although the exact numbers may be different. Check to make sure the data is shifted over one step for `y`."
      ]
    },
    {
      "metadata": {
        "id": "P2BfVV-YUzUa",
        "colab_type": "text"
      },
      "cell_type": "markdown",
      "source": [
        "---\n",
        "## Defining the network with PyTorch\n",
        "\n",
        "Below is where you'll define the network.\n",
        "\n",
        "<img src=\"https://github.com/abialbon/deep-learning-v2-pytorch/blob/master/recurrent-neural-networks/char-rnn/assets/charRNN.png?raw=1\" width=500px>\n",
        "\n",
        "Next, you'll use PyTorch to define the architecture of the network. We start by defining the layers and operations we want. Then, define a method for the forward pass. You've also been given a method for predicting characters."
      ]
    },
    {
      "metadata": {
        "id": "t_BQnhcFUzUc",
        "colab_type": "text"
      },
      "cell_type": "markdown",
      "source": [
        "### Model Structure\n",
        "\n",
        "In `__init__` the suggested structure is as follows:\n",
        "* Create and store the necessary dictionaries (this has been done for you)\n",
        "* Define an LSTM layer that takes as params: an input size (the number of characters), a hidden layer size `n_hidden`, a number of layers `n_layers`, a dropout probability `drop_prob`, and a batch_first boolean (True, since we are batching)\n",
        "* Define a dropout layer with `dropout_prob`\n",
        "* Define a fully-connected layer with params: input size `n_hidden` and output size (the number of characters)\n",
        "* Finally, initialize the weights (again, this has been given)\n",
        "\n",
        "Note that some parameters have been named and given in the `__init__` function, and we use them and store them by doing something like `self.drop_prob = drop_prob`."
      ]
    },
    {
      "metadata": {
        "id": "3X7hzSKlUzUe",
        "colab_type": "text"
      },
      "cell_type": "markdown",
      "source": [
        "---\n",
        "### LSTM Inputs/Outputs\n",
        "\n",
        "You can create a basic [LSTM layer](https://pytorch.org/docs/stable/nn.html#lstm) as follows\n",
        "\n",
        "```python\n",
        "self.lstm = nn.LSTM(input_size, n_hidden, n_layers, \n",
        "                            dropout=drop_prob, batch_first=True)\n",
        "```\n",
        "\n",
        "where `input_size` is the number of characters this cell expects to see as sequential input, and `n_hidden` is the number of units in the hidden layers in the cell. And we can add dropout by adding a dropout parameter with a specified probability; this will automatically add dropout to the inputs or outputs. Finally, in the `forward` function, we can stack up the LSTM cells into layers using `.view`. With this, you pass in a list of cells and it will send the output of one cell into the next cell.\n",
        "\n",
        "We also need to create an initial hidden state of all zeros. This is done like so\n",
        "\n",
        "```python\n",
        "self.init_hidden()\n",
        "```"
      ]
    },
    {
      "metadata": {
        "id": "8hhpoflyUzUg",
        "colab_type": "code",
        "outputId": "95254a2e-3ee2-4b06-8ecd-c07d3c4033cb",
        "colab": {
          "base_uri": "https://localhost:8080/",
          "height": 34
        }
      },
      "cell_type": "code",
      "source": [
        "# check if GPU is available\n",
        "train_on_gpu = torch.cuda.is_available()\n",
        "if(train_on_gpu):\n",
        "    print('Training on GPU!')\n",
        "else: \n",
        "    print('No GPU available, training on CPU; consider making n_epochs very small.')"
      ],
      "execution_count": 13,
      "outputs": [
        {
          "output_type": "stream",
          "text": [
            "Training on GPU!\n"
          ],
          "name": "stdout"
        }
      ]
    },
    {
      "metadata": {
        "id": "2ZLAuN-sUzUi",
        "colab_type": "code",
        "colab": {}
      },
      "cell_type": "code",
      "source": [
        "class CharRNN(nn.Module):\n",
        "    \n",
        "    def __init__(self, tokens, n_hidden=256, n_layers=2,\n",
        "                               drop_prob=0.5, lr=0.001):\n",
        "        super().__init__()\n",
        "        self.drop_prob = drop_prob\n",
        "        self.n_layers = n_layers\n",
        "        self.n_hidden = n_hidden\n",
        "        self.lr = lr\n",
        "        \n",
        "        # creating character dictionaries\n",
        "        self.chars = tokens\n",
        "        self.int2char = dict(enumerate(self.chars))\n",
        "        self.char2int = {ch: ii for ii, ch in self.int2char.items()}\n",
        "        \n",
        "        ## TODO: define the layers of the model\n",
        "        self.lstm = nn.LSTM(len(self.chars), self.n_hidden, self.n_layers, batch_first=True)\n",
        "        self.dropout = nn.Dropout(self.drop_prob)\n",
        "        self.fc = nn.Linear(self.n_hidden, len(chars))\n",
        "    \n",
        "    def forward(self, x, hidden):\n",
        "        ''' Forward pass through the network. \n",
        "            These inputs are x, and the hidden/cell state `hidden`. '''\n",
        "                \n",
        "        ## TODO: Get the outputs and the new hidden state from the lstm\n",
        "        r_out, hidden = self.lstm(x, hidden)\n",
        "        r_out = self.dropout(r_out)\n",
        "        r_out = r_out.contiguous().view(-1, n_hidden)\n",
        "        out = self.fc(r_out)\n",
        "        # return the final output and the hidden state\n",
        "        return out, hidden\n",
        "    \n",
        "    \n",
        "    def init_hidden(self, batch_size):\n",
        "        ''' Initializes hidden state '''\n",
        "        # Create two new tensors with sizes n_layers x batch_size x n_hidden,\n",
        "        # initialized to zero, for hidden state and cell state of LSTM\n",
        "        weight = next(self.parameters()).data\n",
        "        \n",
        "        if (train_on_gpu):\n",
        "            hidden = (weight.new(self.n_layers, batch_size, self.n_hidden).zero_().cuda(),\n",
        "                  weight.new(self.n_layers, batch_size, self.n_hidden).zero_().cuda())\n",
        "        else:\n",
        "            hidden = (weight.new(self.n_layers, batch_size, self.n_hidden).zero_(),\n",
        "                      weight.new(self.n_layers, batch_size, self.n_hidden).zero_())\n",
        "        \n",
        "        return hidden\n",
        "        "
      ],
      "execution_count": 0,
      "outputs": []
    },
    {
      "metadata": {
        "id": "evjj90kUUzUk",
        "colab_type": "text"
      },
      "cell_type": "markdown",
      "source": [
        "## Time to train\n",
        "\n",
        "The train function gives us the ability to set the number of epochs, the learning rate, and other parameters.\n",
        "\n",
        "Below we're using an Adam optimizer and cross entropy loss since we are looking at character class scores as output. We calculate the loss and perform backpropagation, as usual!\n",
        "\n",
        "A couple of details about training: \n",
        ">* Within the batch loop, we detach the hidden state from its history; this time setting it equal to a new *tuple* variable because an LSTM has a hidden state that is a tuple of the hidden and cell states.\n",
        "* We use [`clip_grad_norm_`](https://pytorch.org/docs/stable/_modules/torch/nn/utils/clip_grad.html) to help prevent exploding gradients."
      ]
    },
    {
      "metadata": {
        "id": "bh6aSW74UzUl",
        "colab_type": "code",
        "colab": {}
      },
      "cell_type": "code",
      "source": [
        "def train(net, data, epochs=10, batch_size=10, seq_length=50, lr=0.001, clip=5, val_frac=0.1, print_every=10):\n",
        "    ''' Training a network \n",
        "    \n",
        "        Arguments\n",
        "        ---------\n",
        "        \n",
        "        net: CharRNN network\n",
        "        data: text data to train the network\n",
        "        epochs: Number of epochs to train\n",
        "        batch_size: Number of mini-sequences per mini-batch, aka batch size\n",
        "        seq_length: Number of character steps per mini-batch\n",
        "        lr: learning rate\n",
        "        clip: gradient clipping\n",
        "        val_frac: Fraction of data to hold out for validation\n",
        "        print_every: Number of steps for printing training and validation loss\n",
        "    \n",
        "    '''\n",
        "    net.train()\n",
        "    \n",
        "    opt = torch.optim.Adam(net.parameters(), lr=lr)\n",
        "    criterion = nn.CrossEntropyLoss()\n",
        "    \n",
        "    # create training and validation data\n",
        "    val_idx = int(len(data)*(1-val_frac))\n",
        "    data, val_data = data[:val_idx], data[val_idx:]\n",
        "    \n",
        "    if(train_on_gpu):\n",
        "        net.cuda()\n",
        "    \n",
        "    counter = 0\n",
        "    n_chars = len(net.chars)\n",
        "    for e in range(epochs):\n",
        "        # initialize hidden state\n",
        "        h = net.init_hidden(batch_size)\n",
        "        \n",
        "        for x, y in get_batches(data, batch_size, seq_length):\n",
        "            counter += 1\n",
        "            \n",
        "            # One-hot encode our data and make them Torch tensors\n",
        "            x = one_hot_encode(x, n_chars)\n",
        "            inputs, targets = torch.from_numpy(x), torch.from_numpy(y)\n",
        "            \n",
        "            if(train_on_gpu):\n",
        "                inputs, targets = inputs.cuda(), targets.cuda()\n",
        "\n",
        "            # Creating new variables for the hidden state, otherwise\n",
        "            # we'd backprop through the entire training history\n",
        "            h = tuple([each.data for each in h])\n",
        "\n",
        "            # zero accumulated gradients\n",
        "            net.zero_grad()\n",
        "            \n",
        "            # get the output from the model\n",
        "            output, h = net(inputs, h)\n",
        "            \n",
        "            # calculate the loss and perform backprop\n",
        "            loss = criterion(output, targets.view(batch_size*seq_length))\n",
        "            loss.backward()\n",
        "            # `clip_grad_norm` helps prevent the exploding gradient problem in RNNs / LSTMs.\n",
        "            nn.utils.clip_grad_norm_(net.parameters(), clip)\n",
        "            opt.step()\n",
        "            \n",
        "            # loss stats\n",
        "            if counter % print_every == 0:\n",
        "                # Get validation loss\n",
        "                val_h = net.init_hidden(batch_size)\n",
        "                val_losses = []\n",
        "                net.eval()\n",
        "                for x, y in get_batches(val_data, batch_size, seq_length):\n",
        "                    # One-hot encode our data and make them Torch tensors\n",
        "                    x = one_hot_encode(x, n_chars)\n",
        "                    x, y = torch.from_numpy(x), torch.from_numpy(y)\n",
        "                    \n",
        "                    # Creating new variables for the hidden state, otherwise\n",
        "                    # we'd backprop through the entire training history\n",
        "                    val_h = tuple([each.data for each in val_h])\n",
        "                    \n",
        "                    inputs, targets = x, y\n",
        "                    if(train_on_gpu):\n",
        "                        inputs, targets = inputs.cuda(), targets.cuda()\n",
        "\n",
        "                    output, val_h = net(inputs, val_h)\n",
        "                    val_loss = criterion(output, targets.view(batch_size*seq_length))\n",
        "                \n",
        "                    val_losses.append(val_loss.item())\n",
        "                \n",
        "                net.train() # reset to train mode after iterationg through validation data\n",
        "                \n",
        "                print(\"Epoch: {}/{}...\".format(e+1, epochs),\n",
        "                      \"Step: {}...\".format(counter),\n",
        "                      \"Loss: {:.4f}...\".format(loss.item()),\n",
        "                      \"Val Loss: {:.4f}\".format(np.mean(val_losses)))"
      ],
      "execution_count": 0,
      "outputs": []
    },
    {
      "metadata": {
        "id": "ZxPf4XDIUzUy",
        "colab_type": "text"
      },
      "cell_type": "markdown",
      "source": [
        "## Instantiating the model\n",
        "\n",
        "Now we can actually train the network. First we'll create the network itself, with some given hyperparameters. Then, define the mini-batches sizes, and start training!"
      ]
    },
    {
      "metadata": {
        "id": "irTMDmkWUzUz",
        "colab_type": "code",
        "outputId": "5c5a8c1d-1f03-400c-9e4c-6a7e2d623f8c",
        "colab": {
          "base_uri": "https://localhost:8080/",
          "height": 102
        }
      },
      "cell_type": "code",
      "source": [
        "## TODO: set you model hyperparameters\n",
        "# define and print the net\n",
        "n_hidden=512\n",
        "n_layers=2\n",
        "\n",
        "net = CharRNN(chars, n_hidden, n_layers)\n",
        "print(net)"
      ],
      "execution_count": 16,
      "outputs": [
        {
          "output_type": "stream",
          "text": [
            "CharRNN(\n",
            "  (lstm): LSTM(83, 512, num_layers=2, batch_first=True)\n",
            "  (dropout): Dropout(p=0.5)\n",
            "  (fc): Linear(in_features=512, out_features=83, bias=True)\n",
            ")\n"
          ],
          "name": "stdout"
        }
      ]
    },
    {
      "metadata": {
        "id": "vV_a3b9oUzU4",
        "colab_type": "text"
      },
      "cell_type": "markdown",
      "source": [
        "### Set your training hyperparameters!"
      ]
    },
    {
      "metadata": {
        "scrolled": true,
        "id": "7RtwqL9TUzU6",
        "colab_type": "code",
        "outputId": "9f28d25a-26dc-4f49-a543-7fbad498833f",
        "colab": {
          "base_uri": "https://localhost:8080/",
          "height": 9809
        }
      },
      "cell_type": "code",
      "source": [
        "batch_size = 128\n",
        "seq_length = 100\n",
        "n_epochs =  20# start small if you are just testing initial behavior\n",
        "\n",
        "# train the model\n",
        "train(net, encoded, epochs=n_epochs, batch_size=batch_size, seq_length=seq_length, lr=0.001, print_every=10)"
      ],
      "execution_count": 17,
      "outputs": [
        {
          "output_type": "stream",
          "text": [
            "139\n",
            "15\n",
            "Epoch: 1/20... Step: 10... Loss: 3.2550... Val Loss: 3.1994\n",
            "15\n",
            "Epoch: 1/20... Step: 20... Loss: 3.1477... Val Loss: 3.1361\n",
            "15\n",
            "Epoch: 1/20... Step: 30... Loss: 3.1396... Val Loss: 3.1225\n",
            "15\n",
            "Epoch: 1/20... Step: 40... Loss: 3.1130... Val Loss: 3.1187\n",
            "15\n",
            "Epoch: 1/20... Step: 50... Loss: 3.1445... Val Loss: 3.1168\n",
            "15\n",
            "Epoch: 1/20... Step: 60... Loss: 3.1137... Val Loss: 3.1137\n",
            "15\n",
            "Epoch: 1/20... Step: 70... Loss: 3.1029... Val Loss: 3.1090\n",
            "15\n",
            "Epoch: 1/20... Step: 80... Loss: 3.1102... Val Loss: 3.0991\n",
            "15\n",
            "Epoch: 1/20... Step: 90... Loss: 3.0909... Val Loss: 3.0770\n",
            "15\n",
            "Epoch: 1/20... Step: 100... Loss: 3.0364... Val Loss: 3.0186\n",
            "15\n",
            "Epoch: 1/20... Step: 110... Loss: 2.9335... Val Loss: 2.8983\n",
            "15\n",
            "Epoch: 1/20... Step: 120... Loss: 2.7921... Val Loss: 2.7723\n",
            "15\n",
            "Epoch: 1/20... Step: 130... Loss: 2.6730... Val Loss: 2.6566\n",
            "139\n",
            "15\n",
            "Epoch: 2/20... Step: 140... Loss: 2.6095... Val Loss: 2.5566\n",
            "15\n",
            "Epoch: 2/20... Step: 150... Loss: 2.5281... Val Loss: 2.4930\n",
            "15\n",
            "Epoch: 2/20... Step: 160... Loss: 2.5023... Val Loss: 2.4791\n",
            "15\n",
            "Epoch: 2/20... Step: 170... Loss: 2.4334... Val Loss: 2.4332\n",
            "15\n",
            "Epoch: 2/20... Step: 180... Loss: 2.4031... Val Loss: 2.3990\n",
            "15\n",
            "Epoch: 2/20... Step: 190... Loss: 2.3487... Val Loss: 2.3740\n",
            "15\n",
            "Epoch: 2/20... Step: 200... Loss: 2.3447... Val Loss: 2.3370\n",
            "15\n",
            "Epoch: 2/20... Step: 210... Loss: 2.3109... Val Loss: 2.3055\n",
            "15\n",
            "Epoch: 2/20... Step: 220... Loss: 2.2666... Val Loss: 2.2774\n",
            "15\n",
            "Epoch: 2/20... Step: 230... Loss: 2.2475... Val Loss: 2.2597\n",
            "15\n",
            "Epoch: 2/20... Step: 240... Loss: 2.2286... Val Loss: 2.2212\n",
            "15\n",
            "Epoch: 2/20... Step: 250... Loss: 2.1604... Val Loss: 2.1928\n",
            "15\n",
            "Epoch: 2/20... Step: 260... Loss: 2.1349... Val Loss: 2.1682\n",
            "15\n",
            "Epoch: 2/20... Step: 270... Loss: 2.1436... Val Loss: 2.1344\n",
            "139\n",
            "15\n",
            "Epoch: 3/20... Step: 280... Loss: 2.1316... Val Loss: 2.1173\n",
            "15\n",
            "Epoch: 3/20... Step: 290... Loss: 2.0937... Val Loss: 2.0852\n",
            "15\n",
            "Epoch: 3/20... Step: 300... Loss: 2.0561... Val Loss: 2.0645\n",
            "15\n",
            "Epoch: 3/20... Step: 310... Loss: 2.0364... Val Loss: 2.0380\n",
            "15\n",
            "Epoch: 3/20... Step: 320... Loss: 1.9961... Val Loss: 2.0138\n",
            "15\n",
            "Epoch: 3/20... Step: 330... Loss: 1.9868... Val Loss: 2.0069\n",
            "15\n",
            "Epoch: 3/20... Step: 340... Loss: 1.9963... Val Loss: 1.9779\n",
            "15\n",
            "Epoch: 3/20... Step: 350... Loss: 1.9692... Val Loss: 1.9627\n",
            "15\n",
            "Epoch: 3/20... Step: 360... Loss: 1.8916... Val Loss: 1.9412\n",
            "15\n",
            "Epoch: 3/20... Step: 370... Loss: 1.9351... Val Loss: 1.9225\n",
            "15\n",
            "Epoch: 3/20... Step: 380... Loss: 1.9036... Val Loss: 1.9042\n",
            "15\n",
            "Epoch: 3/20... Step: 390... Loss: 1.8727... Val Loss: 1.8914\n",
            "15\n",
            "Epoch: 3/20... Step: 400... Loss: 1.8453... Val Loss: 1.8790\n",
            "15\n",
            "Epoch: 3/20... Step: 410... Loss: 1.8473... Val Loss: 1.8608\n",
            "139\n",
            "15\n",
            "Epoch: 4/20... Step: 420... Loss: 1.8412... Val Loss: 1.8438\n",
            "15\n",
            "Epoch: 4/20... Step: 430... Loss: 1.8279... Val Loss: 1.8269\n",
            "15\n",
            "Epoch: 4/20... Step: 440... Loss: 1.8110... Val Loss: 1.8150\n",
            "15\n",
            "Epoch: 4/20... Step: 450... Loss: 1.7531... Val Loss: 1.7988\n",
            "15\n",
            "Epoch: 4/20... Step: 460... Loss: 1.7340... Val Loss: 1.7893\n",
            "15\n",
            "Epoch: 4/20... Step: 470... Loss: 1.7719... Val Loss: 1.7741\n",
            "15\n",
            "Epoch: 4/20... Step: 480... Loss: 1.7479... Val Loss: 1.7640\n",
            "15\n",
            "Epoch: 4/20... Step: 490... Loss: 1.7528... Val Loss: 1.7519\n",
            "15\n",
            "Epoch: 4/20... Step: 500... Loss: 1.7433... Val Loss: 1.7400\n",
            "15\n",
            "Epoch: 4/20... Step: 510... Loss: 1.7155... Val Loss: 1.7277\n",
            "15\n",
            "Epoch: 4/20... Step: 520... Loss: 1.7255... Val Loss: 1.7170\n",
            "15\n",
            "Epoch: 4/20... Step: 530... Loss: 1.6936... Val Loss: 1.7096\n",
            "15\n",
            "Epoch: 4/20... Step: 540... Loss: 1.6500... Val Loss: 1.7004\n",
            "15\n",
            "Epoch: 4/20... Step: 550... Loss: 1.7009... Val Loss: 1.6891\n",
            "139\n",
            "15\n",
            "Epoch: 5/20... Step: 560... Loss: 1.6544... Val Loss: 1.6812\n",
            "15\n",
            "Epoch: 5/20... Step: 570... Loss: 1.6371... Val Loss: 1.6699\n",
            "15\n",
            "Epoch: 5/20... Step: 580... Loss: 1.6313... Val Loss: 1.6603\n",
            "15\n",
            "Epoch: 5/20... Step: 590... Loss: 1.6265... Val Loss: 1.6527\n",
            "15\n",
            "Epoch: 5/20... Step: 600... Loss: 1.5972... Val Loss: 1.6428\n",
            "15\n",
            "Epoch: 5/20... Step: 610... Loss: 1.5858... Val Loss: 1.6328\n",
            "15\n",
            "Epoch: 5/20... Step: 620... Loss: 1.6032... Val Loss: 1.6355\n",
            "15\n",
            "Epoch: 5/20... Step: 630... Loss: 1.6106... Val Loss: 1.6200\n",
            "15\n",
            "Epoch: 5/20... Step: 640... Loss: 1.5829... Val Loss: 1.6143\n",
            "15\n",
            "Epoch: 5/20... Step: 650... Loss: 1.5723... Val Loss: 1.6050\n",
            "15\n",
            "Epoch: 5/20... Step: 660... Loss: 1.5560... Val Loss: 1.6014\n",
            "15\n",
            "Epoch: 5/20... Step: 670... Loss: 1.5724... Val Loss: 1.5953\n",
            "15\n",
            "Epoch: 5/20... Step: 680... Loss: 1.5660... Val Loss: 1.5917\n",
            "15\n",
            "Epoch: 5/20... Step: 690... Loss: 1.5395... Val Loss: 1.5894\n",
            "139\n",
            "15\n",
            "Epoch: 6/20... Step: 700... Loss: 1.5429... Val Loss: 1.5814\n",
            "15\n",
            "Epoch: 6/20... Step: 710... Loss: 1.5282... Val Loss: 1.5724\n",
            "15\n",
            "Epoch: 6/20... Step: 720... Loss: 1.5135... Val Loss: 1.5633\n",
            "15\n",
            "Epoch: 6/20... Step: 730... Loss: 1.5380... Val Loss: 1.5557\n",
            "15\n",
            "Epoch: 6/20... Step: 740... Loss: 1.4995... Val Loss: 1.5543\n",
            "15\n",
            "Epoch: 6/20... Step: 750... Loss: 1.4885... Val Loss: 1.5415\n",
            "15\n",
            "Epoch: 6/20... Step: 760... Loss: 1.5233... Val Loss: 1.5407\n",
            "15\n",
            "Epoch: 6/20... Step: 770... Loss: 1.4913... Val Loss: 1.5393\n",
            "15\n",
            "Epoch: 6/20... Step: 780... Loss: 1.4834... Val Loss: 1.5304\n",
            "15\n",
            "Epoch: 6/20... Step: 790... Loss: 1.4596... Val Loss: 1.5220\n",
            "15\n",
            "Epoch: 6/20... Step: 800... Loss: 1.4865... Val Loss: 1.5210\n",
            "15\n",
            "Epoch: 6/20... Step: 810... Loss: 1.4658... Val Loss: 1.5173\n",
            "15\n",
            "Epoch: 6/20... Step: 820... Loss: 1.4295... Val Loss: 1.5099\n",
            "15\n",
            "Epoch: 6/20... Step: 830... Loss: 1.4729... Val Loss: 1.5109\n",
            "139\n",
            "15\n",
            "Epoch: 7/20... Step: 840... Loss: 1.4290... Val Loss: 1.5017\n",
            "15\n",
            "Epoch: 7/20... Step: 850... Loss: 1.4525... Val Loss: 1.4996\n",
            "15\n",
            "Epoch: 7/20... Step: 860... Loss: 1.4274... Val Loss: 1.4936\n",
            "15\n",
            "Epoch: 7/20... Step: 870... Loss: 1.4473... Val Loss: 1.4925\n",
            "15\n",
            "Epoch: 7/20... Step: 880... Loss: 1.4380... Val Loss: 1.4899\n",
            "15\n",
            "Epoch: 7/20... Step: 890... Loss: 1.4416... Val Loss: 1.4789\n",
            "15\n",
            "Epoch: 7/20... Step: 900... Loss: 1.4196... Val Loss: 1.4814\n",
            "15\n",
            "Epoch: 7/20... Step: 910... Loss: 1.3968... Val Loss: 1.4797\n",
            "15\n",
            "Epoch: 7/20... Step: 920... Loss: 1.4136... Val Loss: 1.4715\n",
            "15\n",
            "Epoch: 7/20... Step: 930... Loss: 1.3947... Val Loss: 1.4671\n",
            "15\n",
            "Epoch: 7/20... Step: 940... Loss: 1.4046... Val Loss: 1.4696\n",
            "15\n",
            "Epoch: 7/20... Step: 950... Loss: 1.4164... Val Loss: 1.4640\n",
            "15\n",
            "Epoch: 7/20... Step: 960... Loss: 1.4155... Val Loss: 1.4566\n",
            "15\n",
            "Epoch: 7/20... Step: 970... Loss: 1.4159... Val Loss: 1.4601\n",
            "139\n",
            "15\n",
            "Epoch: 8/20... Step: 980... Loss: 1.3902... Val Loss: 1.4532\n",
            "15\n",
            "Epoch: 8/20... Step: 990... Loss: 1.3900... Val Loss: 1.4502\n",
            "15\n",
            "Epoch: 8/20... Step: 1000... Loss: 1.3781... Val Loss: 1.4434\n",
            "15\n",
            "Epoch: 8/20... Step: 1010... Loss: 1.4215... Val Loss: 1.4459\n",
            "15\n",
            "Epoch: 8/20... Step: 1020... Loss: 1.3989... Val Loss: 1.4421\n",
            "15\n",
            "Epoch: 8/20... Step: 1030... Loss: 1.3676... Val Loss: 1.4372\n",
            "15\n",
            "Epoch: 8/20... Step: 1040... Loss: 1.3733... Val Loss: 1.4383\n",
            "15\n",
            "Epoch: 8/20... Step: 1050... Loss: 1.3579... Val Loss: 1.4352\n",
            "15\n",
            "Epoch: 8/20... Step: 1060... Loss: 1.3548... Val Loss: 1.4283\n",
            "15\n",
            "Epoch: 8/20... Step: 1070... Loss: 1.3657... Val Loss: 1.4284\n",
            "15\n",
            "Epoch: 8/20... Step: 1080... Loss: 1.3626... Val Loss: 1.4268\n",
            "15\n",
            "Epoch: 8/20... Step: 1090... Loss: 1.3485... Val Loss: 1.4227\n",
            "15\n",
            "Epoch: 8/20... Step: 1100... Loss: 1.3424... Val Loss: 1.4162\n",
            "15\n",
            "Epoch: 8/20... Step: 1110... Loss: 1.3327... Val Loss: 1.4174\n",
            "139\n",
            "15\n",
            "Epoch: 9/20... Step: 1120... Loss: 1.3520... Val Loss: 1.4168\n",
            "15\n",
            "Epoch: 9/20... Step: 1130... Loss: 1.3591... Val Loss: 1.4124\n",
            "15\n",
            "Epoch: 9/20... Step: 1140... Loss: 1.3515... Val Loss: 1.4070\n",
            "15\n",
            "Epoch: 9/20... Step: 1150... Loss: 1.3630... Val Loss: 1.4068\n",
            "15\n",
            "Epoch: 9/20... Step: 1160... Loss: 1.3228... Val Loss: 1.4066\n",
            "15\n",
            "Epoch: 9/20... Step: 1170... Loss: 1.3324... Val Loss: 1.4039\n",
            "15\n",
            "Epoch: 9/20... Step: 1180... Loss: 1.3186... Val Loss: 1.4064\n",
            "15\n",
            "Epoch: 9/20... Step: 1190... Loss: 1.3512... Val Loss: 1.4010\n",
            "15\n",
            "Epoch: 9/20... Step: 1200... Loss: 1.3032... Val Loss: 1.3982\n",
            "15\n",
            "Epoch: 9/20... Step: 1210... Loss: 1.3088... Val Loss: 1.3951\n",
            "15\n",
            "Epoch: 9/20... Step: 1220... Loss: 1.3126... Val Loss: 1.3927\n",
            "15\n",
            "Epoch: 9/20... Step: 1230... Loss: 1.2909... Val Loss: 1.3895\n",
            "15\n",
            "Epoch: 9/20... Step: 1240... Loss: 1.2953... Val Loss: 1.3871\n",
            "15\n",
            "Epoch: 9/20... Step: 1250... Loss: 1.3080... Val Loss: 1.3887\n",
            "139\n",
            "15\n",
            "Epoch: 10/20... Step: 1260... Loss: 1.3056... Val Loss: 1.3862\n",
            "15\n",
            "Epoch: 10/20... Step: 1270... Loss: 1.3090... Val Loss: 1.3817\n",
            "15\n",
            "Epoch: 10/20... Step: 1280... Loss: 1.3150... Val Loss: 1.3785\n",
            "15\n",
            "Epoch: 10/20... Step: 1290... Loss: 1.3124... Val Loss: 1.3789\n",
            "15\n",
            "Epoch: 10/20... Step: 1300... Loss: 1.2951... Val Loss: 1.3798\n",
            "15\n",
            "Epoch: 10/20... Step: 1310... Loss: 1.2993... Val Loss: 1.3757\n",
            "15\n",
            "Epoch: 10/20... Step: 1320... Loss: 1.2655... Val Loss: 1.3739\n",
            "15\n",
            "Epoch: 10/20... Step: 1330... Loss: 1.2684... Val Loss: 1.3774\n",
            "15\n",
            "Epoch: 10/20... Step: 1340... Loss: 1.2606... Val Loss: 1.3699\n",
            "15\n",
            "Epoch: 10/20... Step: 1350... Loss: 1.2608... Val Loss: 1.3715\n",
            "15\n",
            "Epoch: 10/20... Step: 1360... Loss: 1.2725... Val Loss: 1.3706\n",
            "15\n",
            "Epoch: 10/20... Step: 1370... Loss: 1.2566... Val Loss: 1.3688\n",
            "15\n",
            "Epoch: 10/20... Step: 1380... Loss: 1.2932... Val Loss: 1.3658\n",
            "15\n",
            "Epoch: 10/20... Step: 1390... Loss: 1.3079... Val Loss: 1.3688\n",
            "139\n",
            "15\n",
            "Epoch: 11/20... Step: 1400... Loss: 1.2979... Val Loss: 1.3617\n",
            "15\n",
            "Epoch: 11/20... Step: 1410... Loss: 1.3130... Val Loss: 1.3613\n",
            "15\n",
            "Epoch: 11/20... Step: 1420... Loss: 1.3038... Val Loss: 1.3587\n",
            "15\n",
            "Epoch: 11/20... Step: 1430... Loss: 1.2698... Val Loss: 1.3594\n",
            "15\n",
            "Epoch: 11/20... Step: 1440... Loss: 1.2864... Val Loss: 1.3585\n",
            "15\n",
            "Epoch: 11/20... Step: 1450... Loss: 1.2219... Val Loss: 1.3552\n",
            "15\n",
            "Epoch: 11/20... Step: 1460... Loss: 1.2494... Val Loss: 1.3579\n",
            "15\n",
            "Epoch: 11/20... Step: 1470... Loss: 1.2405... Val Loss: 1.3572\n",
            "15\n",
            "Epoch: 11/20... Step: 1480... Loss: 1.2617... Val Loss: 1.3477\n",
            "15\n",
            "Epoch: 11/20... Step: 1490... Loss: 1.2423... Val Loss: 1.3534\n",
            "15\n",
            "Epoch: 11/20... Step: 1500... Loss: 1.2376... Val Loss: 1.3511\n",
            "15\n",
            "Epoch: 11/20... Step: 1510... Loss: 1.2197... Val Loss: 1.3478\n",
            "15\n",
            "Epoch: 11/20... Step: 1520... Loss: 1.2530... Val Loss: 1.3462\n",
            "139\n",
            "15\n",
            "Epoch: 12/20... Step: 1530... Loss: 1.3034... Val Loss: 1.3481\n",
            "15\n",
            "Epoch: 12/20... Step: 1540... Loss: 1.2506... Val Loss: 1.3450\n",
            "15\n",
            "Epoch: 12/20... Step: 1550... Loss: 1.2533... Val Loss: 1.3405\n",
            "15\n",
            "Epoch: 12/20... Step: 1560... Loss: 1.2680... Val Loss: 1.3389\n",
            "15\n",
            "Epoch: 12/20... Step: 1570... Loss: 1.2256... Val Loss: 1.3385\n",
            "15\n",
            "Epoch: 12/20... Step: 1580... Loss: 1.1850... Val Loss: 1.3377\n",
            "15\n",
            "Epoch: 12/20... Step: 1590... Loss: 1.1909... Val Loss: 1.3349\n",
            "15\n",
            "Epoch: 12/20... Step: 1600... Loss: 1.2148... Val Loss: 1.3364\n",
            "15\n",
            "Epoch: 12/20... Step: 1610... Loss: 1.2106... Val Loss: 1.3428\n",
            "15\n",
            "Epoch: 12/20... Step: 1620... Loss: 1.1943... Val Loss: 1.3296\n",
            "15\n",
            "Epoch: 12/20... Step: 1630... Loss: 1.2268... Val Loss: 1.3279\n",
            "15\n",
            "Epoch: 12/20... Step: 1640... Loss: 1.2078... Val Loss: 1.3274\n",
            "15\n",
            "Epoch: 12/20... Step: 1650... Loss: 1.1806... Val Loss: 1.3262\n",
            "15\n",
            "Epoch: 12/20... Step: 1660... Loss: 1.2400... Val Loss: 1.3260\n",
            "139\n",
            "15\n",
            "Epoch: 13/20... Step: 1670... Loss: 1.1853... Val Loss: 1.3295\n",
            "15\n",
            "Epoch: 13/20... Step: 1680... Loss: 1.2064... Val Loss: 1.3198\n",
            "15\n",
            "Epoch: 13/20... Step: 1690... Loss: 1.1941... Val Loss: 1.3168\n",
            "15\n",
            "Epoch: 13/20... Step: 1700... Loss: 1.1794... Val Loss: 1.3242\n",
            "15\n",
            "Epoch: 13/20... Step: 1710... Loss: 1.1718... Val Loss: 1.3227\n",
            "15\n",
            "Epoch: 13/20... Step: 1720... Loss: 1.1739... Val Loss: 1.3205\n",
            "15\n",
            "Epoch: 13/20... Step: 1730... Loss: 1.2033... Val Loss: 1.3155\n",
            "15\n",
            "Epoch: 13/20... Step: 1740... Loss: 1.1817... Val Loss: 1.3208\n",
            "15\n",
            "Epoch: 13/20... Step: 1750... Loss: 1.1544... Val Loss: 1.3231\n",
            "15\n",
            "Epoch: 13/20... Step: 1760... Loss: 1.1776... Val Loss: 1.3120\n",
            "15\n",
            "Epoch: 13/20... Step: 1770... Loss: 1.2012... Val Loss: 1.3127\n",
            "15\n",
            "Epoch: 13/20... Step: 1780... Loss: 1.1648... Val Loss: 1.3092\n",
            "15\n",
            "Epoch: 13/20... Step: 1790... Loss: 1.1510... Val Loss: 1.3069\n",
            "15\n",
            "Epoch: 13/20... Step: 1800... Loss: 1.1764... Val Loss: 1.3152\n",
            "139\n",
            "15\n",
            "Epoch: 14/20... Step: 1810... Loss: 1.1873... Val Loss: 1.3240\n",
            "15\n",
            "Epoch: 14/20... Step: 1820... Loss: 1.1684... Val Loss: 1.3076\n",
            "15\n",
            "Epoch: 14/20... Step: 1830... Loss: 1.2048... Val Loss: 1.3091\n",
            "15\n",
            "Epoch: 14/20... Step: 1840... Loss: 1.1443... Val Loss: 1.3067\n",
            "15\n",
            "Epoch: 14/20... Step: 1850... Loss: 1.1199... Val Loss: 1.3065\n",
            "15\n",
            "Epoch: 14/20... Step: 1860... Loss: 1.1686... Val Loss: 1.3090\n",
            "15\n",
            "Epoch: 14/20... Step: 1870... Loss: 1.1857... Val Loss: 1.3026\n",
            "15\n",
            "Epoch: 14/20... Step: 1880... Loss: 1.1703... Val Loss: 1.3094\n",
            "15\n",
            "Epoch: 14/20... Step: 1890... Loss: 1.1776... Val Loss: 1.3059\n",
            "15\n",
            "Epoch: 14/20... Step: 1900... Loss: 1.1646... Val Loss: 1.3047\n",
            "15\n",
            "Epoch: 14/20... Step: 1910... Loss: 1.1510... Val Loss: 1.3036\n",
            "15\n",
            "Epoch: 14/20... Step: 1920... Loss: 1.1565... Val Loss: 1.3003\n",
            "15\n",
            "Epoch: 14/20... Step: 1930... Loss: 1.1330... Val Loss: 1.2985\n",
            "15\n",
            "Epoch: 14/20... Step: 1940... Loss: 1.1801... Val Loss: 1.3004\n",
            "139\n",
            "15\n",
            "Epoch: 15/20... Step: 1950... Loss: 1.1518... Val Loss: 1.3077\n",
            "15\n",
            "Epoch: 15/20... Step: 1960... Loss: 1.1542... Val Loss: 1.2987\n",
            "15\n",
            "Epoch: 15/20... Step: 1970... Loss: 1.1375... Val Loss: 1.2979\n",
            "15\n",
            "Epoch: 15/20... Step: 1980... Loss: 1.1382... Val Loss: 1.2998\n",
            "15\n",
            "Epoch: 15/20... Step: 1990... Loss: 1.1344... Val Loss: 1.2985\n",
            "15\n",
            "Epoch: 15/20... Step: 2000... Loss: 1.1135... Val Loss: 1.2992\n",
            "15\n",
            "Epoch: 15/20... Step: 2010... Loss: 1.1410... Val Loss: 1.2958\n",
            "15\n",
            "Epoch: 15/20... Step: 2020... Loss: 1.1484... Val Loss: 1.3040\n",
            "15\n",
            "Epoch: 15/20... Step: 2030... Loss: 1.1325... Val Loss: 1.2965\n",
            "15\n",
            "Epoch: 15/20... Step: 2040... Loss: 1.1439... Val Loss: 1.2975\n",
            "15\n",
            "Epoch: 15/20... Step: 2050... Loss: 1.1224... Val Loss: 1.2982\n",
            "15\n",
            "Epoch: 15/20... Step: 2060... Loss: 1.1312... Val Loss: 1.3030\n",
            "15\n",
            "Epoch: 15/20... Step: 2070... Loss: 1.1422... Val Loss: 1.2921\n",
            "15\n",
            "Epoch: 15/20... Step: 2080... Loss: 1.1417... Val Loss: 1.2991\n",
            "139\n",
            "15\n",
            "Epoch: 16/20... Step: 2090... Loss: 1.1427... Val Loss: 1.3101\n",
            "15\n",
            "Epoch: 16/20... Step: 2100... Loss: 1.1304... Val Loss: 1.2919\n",
            "15\n",
            "Epoch: 16/20... Step: 2110... Loss: 1.1205... Val Loss: 1.2924\n",
            "15\n",
            "Epoch: 16/20... Step: 2120... Loss: 1.1359... Val Loss: 1.3023\n",
            "15\n",
            "Epoch: 16/20... Step: 2130... Loss: 1.1127... Val Loss: 1.2964\n",
            "15\n",
            "Epoch: 16/20... Step: 2140... Loss: 1.1167... Val Loss: 1.2971\n",
            "15\n",
            "Epoch: 16/20... Step: 2150... Loss: 1.1428... Val Loss: 1.2912\n",
            "15\n",
            "Epoch: 16/20... Step: 2160... Loss: 1.1188... Val Loss: 1.2982\n",
            "15\n",
            "Epoch: 16/20... Step: 2170... Loss: 1.1156... Val Loss: 1.2946\n",
            "15\n",
            "Epoch: 16/20... Step: 2180... Loss: 1.1119... Val Loss: 1.2922\n",
            "15\n",
            "Epoch: 16/20... Step: 2190... Loss: 1.1310... Val Loss: 1.3011\n",
            "15\n",
            "Epoch: 16/20... Step: 2200... Loss: 1.1134... Val Loss: 1.2922\n",
            "15\n",
            "Epoch: 16/20... Step: 2210... Loss: 1.0742... Val Loss: 1.2890\n",
            "15\n",
            "Epoch: 16/20... Step: 2220... Loss: 1.1192... Val Loss: 1.2941\n",
            "139\n",
            "15\n",
            "Epoch: 17/20... Step: 2230... Loss: 1.1061... Val Loss: 1.2971\n",
            "15\n",
            "Epoch: 17/20... Step: 2240... Loss: 1.1103... Val Loss: 1.2843\n",
            "15\n",
            "Epoch: 17/20... Step: 2250... Loss: 1.1005... Val Loss: 1.2878\n",
            "15\n",
            "Epoch: 17/20... Step: 2260... Loss: 1.1108... Val Loss: 1.2959\n",
            "15\n",
            "Epoch: 17/20... Step: 2270... Loss: 1.1132... Val Loss: 1.2917\n",
            "15\n",
            "Epoch: 17/20... Step: 2280... Loss: 1.1121... Val Loss: 1.2975\n",
            "15\n",
            "Epoch: 17/20... Step: 2290... Loss: 1.1100... Val Loss: 1.2879\n",
            "15\n",
            "Epoch: 17/20... Step: 2300... Loss: 1.0825... Val Loss: 1.2959\n",
            "15\n",
            "Epoch: 17/20... Step: 2310... Loss: 1.1064... Val Loss: 1.2928\n",
            "15\n",
            "Epoch: 17/20... Step: 2320... Loss: 1.1000... Val Loss: 1.2918\n",
            "15\n",
            "Epoch: 17/20... Step: 2330... Loss: 1.0988... Val Loss: 1.2931\n",
            "15\n",
            "Epoch: 17/20... Step: 2340... Loss: 1.1046... Val Loss: 1.2940\n",
            "15\n",
            "Epoch: 17/20... Step: 2350... Loss: 1.1001... Val Loss: 1.2910\n",
            "15\n",
            "Epoch: 17/20... Step: 2360... Loss: 1.1060... Val Loss: 1.2958\n",
            "139\n",
            "15\n",
            "Epoch: 18/20... Step: 2370... Loss: 1.0849... Val Loss: 1.2935\n",
            "15\n",
            "Epoch: 18/20... Step: 2380... Loss: 1.1003... Val Loss: 1.2804\n",
            "15\n",
            "Epoch: 18/20... Step: 2390... Loss: 1.0907... Val Loss: 1.2882\n",
            "15\n",
            "Epoch: 18/20... Step: 2400... Loss: 1.1169... Val Loss: 1.2860\n",
            "15\n",
            "Epoch: 18/20... Step: 2410... Loss: 1.1034... Val Loss: 1.2864\n",
            "15\n",
            "Epoch: 18/20... Step: 2420... Loss: 1.0973... Val Loss: 1.2889\n",
            "15\n",
            "Epoch: 18/20... Step: 2430... Loss: 1.0929... Val Loss: 1.2858\n",
            "15\n",
            "Epoch: 18/20... Step: 2440... Loss: 1.0817... Val Loss: 1.2934\n",
            "15\n",
            "Epoch: 18/20... Step: 2450... Loss: 1.0630... Val Loss: 1.2937\n",
            "15\n",
            "Epoch: 18/20... Step: 2460... Loss: 1.1046... Val Loss: 1.2855\n",
            "15\n",
            "Epoch: 18/20... Step: 2470... Loss: 1.0824... Val Loss: 1.2949\n",
            "15\n",
            "Epoch: 18/20... Step: 2480... Loss: 1.0742... Val Loss: 1.2931\n",
            "15\n",
            "Epoch: 18/20... Step: 2490... Loss: 1.0633... Val Loss: 1.2882\n",
            "15\n",
            "Epoch: 18/20... Step: 2500... Loss: 1.0641... Val Loss: 1.2941\n",
            "139\n",
            "15\n",
            "Epoch: 19/20... Step: 2510... Loss: 1.0786... Val Loss: 1.2954\n",
            "15\n",
            "Epoch: 19/20... Step: 2520... Loss: 1.1017... Val Loss: 1.2817\n",
            "15\n",
            "Epoch: 19/20... Step: 2530... Loss: 1.0955... Val Loss: 1.2868\n",
            "15\n",
            "Epoch: 19/20... Step: 2540... Loss: 1.0989... Val Loss: 1.2852\n",
            "15\n",
            "Epoch: 19/20... Step: 2550... Loss: 1.0681... Val Loss: 1.2863\n",
            "15\n",
            "Epoch: 19/20... Step: 2560... Loss: 1.0743... Val Loss: 1.2901\n",
            "15\n",
            "Epoch: 19/20... Step: 2570... Loss: 1.0659... Val Loss: 1.2874\n",
            "15\n",
            "Epoch: 19/20... Step: 2580... Loss: 1.1011... Val Loss: 1.2906\n",
            "15\n",
            "Epoch: 19/20... Step: 2590... Loss: 1.0643... Val Loss: 1.2936\n",
            "15\n",
            "Epoch: 19/20... Step: 2600... Loss: 1.0555... Val Loss: 1.2906\n",
            "15\n",
            "Epoch: 19/20... Step: 2610... Loss: 1.0698... Val Loss: 1.2914\n",
            "15\n",
            "Epoch: 19/20... Step: 2620... Loss: 1.0474... Val Loss: 1.2950\n",
            "15\n",
            "Epoch: 19/20... Step: 2630... Loss: 1.0589... Val Loss: 1.2913\n",
            "15\n",
            "Epoch: 19/20... Step: 2640... Loss: 1.0844... Val Loss: 1.2922\n",
            "139\n",
            "15\n",
            "Epoch: 20/20... Step: 2650... Loss: 1.0760... Val Loss: 1.3004\n",
            "15\n",
            "Epoch: 20/20... Step: 2660... Loss: 1.0888... Val Loss: 1.2814\n",
            "15\n",
            "Epoch: 20/20... Step: 2670... Loss: 1.0777... Val Loss: 1.2926\n",
            "15\n",
            "Epoch: 20/20... Step: 2680... Loss: 1.0682... Val Loss: 1.2860\n",
            "15\n",
            "Epoch: 20/20... Step: 2690... Loss: 1.0541... Val Loss: 1.2907\n",
            "15\n",
            "Epoch: 20/20... Step: 2700... Loss: 1.0813... Val Loss: 1.2914\n",
            "15\n",
            "Epoch: 20/20... Step: 2710... Loss: 1.0359... Val Loss: 1.2880\n",
            "15\n",
            "Epoch: 20/20... Step: 2720... Loss: 1.0369... Val Loss: 1.2919\n",
            "15\n",
            "Epoch: 20/20... Step: 2730... Loss: 1.0303... Val Loss: 1.2926\n",
            "15\n",
            "Epoch: 20/20... Step: 2740... Loss: 1.0424... Val Loss: 1.2919\n",
            "15\n",
            "Epoch: 20/20... Step: 2750... Loss: 1.0449... Val Loss: 1.2961\n",
            "15\n",
            "Epoch: 20/20... Step: 2760... Loss: 1.0333... Val Loss: 1.2942\n",
            "15\n",
            "Epoch: 20/20... Step: 2770... Loss: 1.0683... Val Loss: 1.2939\n",
            "15\n",
            "Epoch: 20/20... Step: 2780... Loss: 1.1038... Val Loss: 1.3009\n"
          ],
          "name": "stdout"
        }
      ]
    },
    {
      "metadata": {
        "id": "o21TVtbeUzU-",
        "colab_type": "text"
      },
      "cell_type": "markdown",
      "source": [
        "## Getting the best model\n",
        "\n",
        "To set your hyperparameters to get the best performance, you'll want to watch the training and validation losses. If your training loss is much lower than the validation loss, you're overfitting. Increase regularization (more dropout) or use a smaller network. If the training and validation losses are close, you're underfitting so you can increase the size of the network."
      ]
    },
    {
      "metadata": {
        "id": "Hf66GAs-UzU_",
        "colab_type": "text"
      },
      "cell_type": "markdown",
      "source": [
        "## Hyperparameters\n",
        "\n",
        "Here are the hyperparameters for the network.\n",
        "\n",
        "In defining the model:\n",
        "* `n_hidden` - The number of units in the hidden layers.\n",
        "* `n_layers` - Number of hidden LSTM layers to use.\n",
        "\n",
        "We assume that dropout probability and learning rate will be kept at the default, in this example.\n",
        "\n",
        "And in training:\n",
        "* `batch_size` - Number of sequences running through the network in one pass.\n",
        "* `seq_length` - Number of characters in the sequence the network is trained on. Larger is better typically, the network will learn more long range dependencies. But it takes longer to train. 100 is typically a good number here.\n",
        "* `lr` - Learning rate for training\n",
        "\n",
        "Here's some good advice from Andrej Karpathy on training the network. I'm going to copy it in here for your benefit, but also link to [where it originally came from](https://github.com/karpathy/char-rnn#tips-and-tricks).\n",
        "\n",
        "> ## Tips and Tricks\n",
        "\n",
        ">### Monitoring Validation Loss vs. Training Loss\n",
        ">If you're somewhat new to Machine Learning or Neural Networks it can take a bit of expertise to get good models. The most important quantity to keep track of is the difference between your training loss (printed during training) and the validation loss (printed once in a while when the RNN is run on the validation data (by default every 1000 iterations)). In particular:\n",
        "\n",
        "> - If your training loss is much lower than validation loss then this means the network might be **overfitting**. Solutions to this are to decrease your network size, or to increase dropout. For example you could try dropout of 0.5 and so on.\n",
        "> - If your training/validation loss are about equal then your model is **underfitting**. Increase the size of your model (either number of layers or the raw number of neurons per layer)\n",
        "\n",
        "> ### Approximate number of parameters\n",
        "\n",
        "> The two most important parameters that control the model are `n_hidden` and `n_layers`. I would advise that you always use `n_layers` of either 2/3. The `n_hidden` can be adjusted based on how much data you have. The two important quantities to keep track of here are:\n",
        "\n",
        "> - The number of parameters in your model. This is printed when you start training.\n",
        "> - The size of your dataset. 1MB file is approximately 1 million characters.\n",
        "\n",
        ">These two should be about the same order of magnitude. It's a little tricky to tell. Here are some examples:\n",
        "\n",
        "> - I have a 100MB dataset and I'm using the default parameter settings (which currently print 150K parameters). My data size is significantly larger (100 mil >> 0.15 mil), so I expect to heavily underfit. I am thinking I can comfortably afford to make `n_hidden` larger.\n",
        "> - I have a 10MB dataset and running a 10 million parameter model. I'm slightly nervous and I'm carefully monitoring my validation loss. If it's larger than my training loss then I may want to try to increase dropout a bit and see if that helps the validation loss.\n",
        "\n",
        "> ### Best models strategy\n",
        "\n",
        ">The winning strategy to obtaining very good models (if you have the compute time) is to always err on making the network larger (as large as you're willing to wait for it to compute) and then try different dropout values (between 0,1). Whatever model has the best validation performance (the loss, written in the checkpoint filename, low is good) is the one you should use in the end.\n",
        "\n",
        ">It is very common in deep learning to run many different models with many different hyperparameter settings, and in the end take whatever checkpoint gave the best validation performance.\n",
        "\n",
        ">By the way, the size of your training and validation splits are also parameters. Make sure you have a decent amount of data in your validation set or otherwise the validation performance will be noisy and not very informative."
      ]
    },
    {
      "metadata": {
        "id": "Bjtf8RZyUzVB",
        "colab_type": "text"
      },
      "cell_type": "markdown",
      "source": [
        "## Checkpoint\n",
        "\n",
        "After training, we'll save the model so we can load it again later if we need too. Here I'm saving the parameters needed to create the same architecture, the hidden layer hyperparameters and the text characters."
      ]
    },
    {
      "metadata": {
        "id": "YCVcZ6FEUzVC",
        "colab_type": "code",
        "colab": {
          "base_uri": "https://localhost:8080/",
          "height": 34
        },
        "outputId": "e70088b9-1446-4da8-d5d1-8e1d2e97b351"
      },
      "cell_type": "code",
      "source": [
        "# change the name, for saving multiple files\n",
        "model_name = 'rnn_x_epoch.net'\n",
        "\n",
        "checkpoint = {'n_hidden': net.n_hidden,\n",
        "              'n_layers': net.n_layers,\n",
        "              'state_dict': net.state_dict(),\n",
        "              'tokens': net.chars}\n",
        "\n",
        "with open(model_name, 'wb') as f:\n",
        "    torch.save(checkpoint, f)\n",
        "    print('Model successfully saved!')"
      ],
      "execution_count": 18,
      "outputs": [
        {
          "output_type": "stream",
          "text": [
            "Model successfully saved!\n"
          ],
          "name": "stdout"
        }
      ]
    },
    {
      "metadata": {
        "id": "KFiE8iN0UzVG",
        "colab_type": "text"
      },
      "cell_type": "markdown",
      "source": [
        "---\n",
        "## Making Predictions\n",
        "\n",
        "Now that the model is trained, we'll want to sample from it and make predictions about next characters! To sample, we pass in a character and have the network predict the next character. Then we take that character, pass it back in, and get another predicted character. Just keep doing this and you'll generate a bunch of text!\n",
        "\n",
        "### A note on the `predict`  function\n",
        "\n",
        "The output of our RNN is from a fully-connected layer and it outputs a **distribution of next-character scores**.\n",
        "\n",
        "> To actually get the next character, we apply a softmax function, which gives us a *probability* distribution that we can then sample to predict the next character.\n",
        "\n",
        "### Top K sampling\n",
        "\n",
        "Our predictions come from a categorical probability distribution over all the possible characters. We can make the sample text and make it more reasonable to handle (with less variables) by only considering some $K$ most probable characters. This will prevent the network from giving us completely absurd characters while allowing it to introduce some noise and randomness into the sampled text. Read more about [topk, here](https://pytorch.org/docs/stable/torch.html#torch.topk).\n"
      ]
    },
    {
      "metadata": {
        "id": "3mDfFELxUzVI",
        "colab_type": "code",
        "colab": {}
      },
      "cell_type": "code",
      "source": [
        "def predict(net, char, h=None, top_k=None):\n",
        "        ''' Given a character, predict the next character.\n",
        "            Returns the predicted character and the hidden state.\n",
        "        '''\n",
        "        \n",
        "        # tensor inputs\n",
        "        x = np.array([[net.char2int[char]]])\n",
        "        x = one_hot_encode(x, len(net.chars))\n",
        "        inputs = torch.from_numpy(x)\n",
        "        \n",
        "        if(train_on_gpu):\n",
        "            inputs = inputs.cuda()\n",
        "        \n",
        "        # detach hidden state from history\n",
        "        h = tuple([each.data for each in h])\n",
        "        # get the output of the model\n",
        "        out, h = net(inputs, h)\n",
        "\n",
        "        # get the character probabilities\n",
        "        p = F.softmax(out, dim=1).data\n",
        "        if(train_on_gpu):\n",
        "            p = p.cpu() # move to cpu\n",
        "        \n",
        "        # get top characters\n",
        "        if top_k is None:\n",
        "            top_ch = np.arange(len(net.chars))\n",
        "        else:\n",
        "            p, top_ch = p.topk(top_k)\n",
        "            top_ch = top_ch.numpy().squeeze()\n",
        "        \n",
        "        # select the likely next character with some element of randomness\n",
        "        p = p.numpy().squeeze()\n",
        "        char = np.random.choice(top_ch, p=p/p.sum())\n",
        "        \n",
        "        # return the encoded value of the predicted char and the hidden state\n",
        "        return net.int2char[char], h"
      ],
      "execution_count": 0,
      "outputs": []
    },
    {
      "metadata": {
        "id": "dlAhjCsfUzVM",
        "colab_type": "text"
      },
      "cell_type": "markdown",
      "source": [
        "### Priming and generating text \n",
        "\n",
        "Typically you'll want to prime the network so you can build up a hidden state. Otherwise the network will start out generating characters at random. In general the first bunch of characters will be a little rough since it hasn't built up a long history of characters to predict from."
      ]
    },
    {
      "metadata": {
        "id": "URdHf1ttUzVO",
        "colab_type": "code",
        "colab": {}
      },
      "cell_type": "code",
      "source": [
        "def sample(net, size, prime='The', top_k=None):\n",
        "        \n",
        "    if(train_on_gpu):\n",
        "        net.cuda()\n",
        "    else:\n",
        "        net.cpu()\n",
        "    \n",
        "    net.eval() # eval mode\n",
        "    \n",
        "    # First off, run through the prime characters\n",
        "    chars = [ch for ch in prime]\n",
        "    h = net.init_hidden(1)\n",
        "    for ch in prime:\n",
        "        char, h = predict(net, ch, h, top_k=top_k)\n",
        "\n",
        "    chars.append(char)\n",
        "    \n",
        "    # Now pass in the previous character and get a new one\n",
        "    for ii in range(size):\n",
        "        char, h = predict(net, chars[-1], h, top_k=top_k)\n",
        "        chars.append(char)\n",
        "\n",
        "    return ''.join(chars)"
      ],
      "execution_count": 0,
      "outputs": []
    },
    {
      "metadata": {
        "id": "npDwNAK0UzVX",
        "colab_type": "code",
        "colab": {
          "base_uri": "https://localhost:8080/",
          "height": 340
        },
        "outputId": "323bfad9-fc0f-405f-962b-7bcece6691a5"
      },
      "cell_type": "code",
      "source": [
        "print(sample(net, 1000, prime='Anna', top_k=5))"
      ],
      "execution_count": 21,
      "outputs": [
        {
          "output_type": "stream",
          "text": [
            "Anna, he saw that in her\n",
            "eyes that had been angry with him, and all sorts of all at once there\n",
            "was a little shameful ones of a table. He heard that he meets one way in\n",
            "that condecidow. He went ist was so positively. And his fine superfur further\n",
            "with which he had been a stead the committee and which he tried to go,\n",
            "and and she had not spoken in the sound, that she had not so much as a subject for\n",
            "this tone that she had been dressed on with his hat. He did not suppose\n",
            "to hers his stream. The mother than ever for his father and this\n",
            "marriage that they should bring his mind it out of the words, and\n",
            "went to her at this words there would be stronger talking to the same\n",
            "thing. The first peace who had not to stop one thing.\n",
            "\n",
            "\"And all that ame!...\"\n",
            "\n",
            "The races of his own shoulders was the condition of this, and he had been\n",
            "their fingers. She was deceived herself, and he smiled.\n",
            "\n",
            "Sveitoks, with a subdle of always horse. She went up to him. She sat\n",
            "down between them with the doorway in the crowd for t\n"
          ],
          "name": "stdout"
        }
      ]
    },
    {
      "metadata": {
        "id": "EHdSDcRpUzVf",
        "colab_type": "text"
      },
      "cell_type": "markdown",
      "source": [
        "## Loading a checkpoint"
      ]
    },
    {
      "metadata": {
        "id": "StcXMZ_BUzVf",
        "colab_type": "code",
        "colab": {}
      },
      "cell_type": "code",
      "source": [
        "# Here we have loaded in a model that trained over 20 epochs `rnn_20_epoch.net`\n",
        "with open('rnn_x_epoch.net', 'rb') as f:\n",
        "    checkpoint = torch.load(f)\n",
        "    \n",
        "loaded = CharRNN(checkpoint['tokens'], n_hidden=checkpoint['n_hidden'], n_layers=checkpoint['n_layers'])\n",
        "loaded.load_state_dict(checkpoint['state_dict'])"
      ],
      "execution_count": 0,
      "outputs": []
    },
    {
      "metadata": {
        "id": "khV0qq1fUzVi",
        "colab_type": "code",
        "colab": {
          "base_uri": "https://localhost:8080/",
          "height": 765
        },
        "outputId": "a3715255-6702-4dbc-d4a8-2aa9ebe8a1f5"
      },
      "cell_type": "code",
      "source": [
        "# Sample using a loaded model\n",
        "print(sample(loaded, 2000, top_k=5, prime=\"And Levin said\"))"
      ],
      "execution_count": 23,
      "outputs": [
        {
          "output_type": "stream",
          "text": [
            "And Levin said\n",
            "something in the bell, the comitions, that she was stairfulding, and that\n",
            "it was the simplesity it with her. She was angry with all about it, as though there\n",
            "seemed as he was death as that their composer, where he had still merely fancied\n",
            "than he held her for health, but a challenge was the more past off, hideen a gray his\n",
            "head and began to catch his suppriming and son, and has seended that the\n",
            "morning with his soul.\n",
            "\n",
            "\"It's a little by me to say all about it.\"\n",
            "\n",
            "\"I don't want to say, and you may distant most ophopally--in the soul.\n",
            "Those developments, or to leave him, so impressed you,\" answered Levin,\n",
            "but at that moment the prince was now and sha hortined his brother.\n",
            "\n",
            "\"I will talk about to her, and she would save them. What do you stay it,\" he said,\n",
            "\"that's the same thing, and the sonssion of my laugh, who wants to be\n",
            "there and means in all timistration from you.\"\n",
            "\n",
            "\"Will you see that?\" thought Vronsky, souring.\n",
            "\n",
            "\n",
            "Chapter 17\n",
            "\n",
            "\n",
            "And the doctor said it. She found, as she said this was to comfort; he had\n",
            "so much see in a desire, towards meetings.\n",
            "\n",
            "\"I shall be drinking with them.\n",
            "\n",
            "In't your fanity and wonderful you are too.\" And tried to care this\n",
            "things out of the steps, \"that's the mushrooms, and the mother of his wife, and I's a\n",
            "sterndy, and shall nut to speak, the details of anyone and health and the\n",
            "people, and the secretary and the most perform of the family of all\n",
            "sincerest. I'm not always at all.\"\n",
            "\n",
            "\"I have distinctly attractive,\" answered Kitty, starting on the truth. Tell\n",
            "men a dress so as to be memory than ever than he would say all of it. He was not\n",
            "distressed, and that this was not something struck in the face.\n",
            "\n",
            "\"What and I don't know? A coming impose in her hands? That her\n",
            "beauty would as you are to love it moments and she's nearer to see you\n",
            "an order to be myself to determine that the socher of her direct, and, why is\n",
            "this they soon? I could hear to stand, and I have now a girls in a little\n",
            "coat with that they havensible, and I shall be a gesting of his min\n"
          ],
          "name": "stdout"
        }
      ]
    },
    {
      "metadata": {
        "id": "28nTxxXhUzVn",
        "colab_type": "code",
        "colab": {}
      },
      "cell_type": "code",
      "source": [
        ""
      ],
      "execution_count": 0,
      "outputs": []
    }
  ]
}