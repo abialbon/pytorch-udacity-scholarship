{
 "cells": [
  {
   "cell_type": "markdown",
   "metadata": {},
   "source": [
    "# Logistic binary classifier - Gradient descent\n",
    "\n",
    "### Steps of the algorithm\n",
    "1. Get the features and targets from the dataset as numpy arrays\n",
    "2. Select random weights and bias\n",
    "3. Loop through the dataset\n",
    "    - Predict each target with the chosen weights and bias\n",
    "    - Find error\n",
    "    - Calculate the partial derivates of the error function with respect the weights and the derivate\n",
    "4. Use the average of cumulative derivates to update the weight and the bias\n",
    "5. Measure error function and accuracy\n",
    "6. Repeat many epochs for better accuracy"
   ]
  },
  {
   "cell_type": "code",
   "execution_count": 117,
   "metadata": {},
   "outputs": [],
   "source": [
    "import pandas as pd\n",
    "import numpy as np\n",
    "\n",
    "data = pd.read_csv('data.csv', header=None, names=['x1', 'x2', 'y'])"
   ]
  },
  {
   "cell_type": "code",
   "execution_count": 118,
   "metadata": {},
   "outputs": [
    {
     "data": {
      "text/html": [
       "<div>\n",
       "<style scoped>\n",
       "    .dataframe tbody tr th:only-of-type {\n",
       "        vertical-align: middle;\n",
       "    }\n",
       "\n",
       "    .dataframe tbody tr th {\n",
       "        vertical-align: top;\n",
       "    }\n",
       "\n",
       "    .dataframe thead th {\n",
       "        text-align: right;\n",
       "    }\n",
       "</style>\n",
       "<table border=\"1\" class=\"dataframe\">\n",
       "  <thead>\n",
       "    <tr style=\"text-align: right;\">\n",
       "      <th></th>\n",
       "      <th>x1</th>\n",
       "      <th>x2</th>\n",
       "      <th>y</th>\n",
       "    </tr>\n",
       "  </thead>\n",
       "  <tbody>\n",
       "    <tr>\n",
       "      <th>0</th>\n",
       "      <td>0.78051</td>\n",
       "      <td>-0.063669</td>\n",
       "      <td>1</td>\n",
       "    </tr>\n",
       "    <tr>\n",
       "      <th>1</th>\n",
       "      <td>0.28774</td>\n",
       "      <td>0.291390</td>\n",
       "      <td>1</td>\n",
       "    </tr>\n",
       "    <tr>\n",
       "      <th>2</th>\n",
       "      <td>0.40714</td>\n",
       "      <td>0.178780</td>\n",
       "      <td>1</td>\n",
       "    </tr>\n",
       "    <tr>\n",
       "      <th>3</th>\n",
       "      <td>0.29230</td>\n",
       "      <td>0.421700</td>\n",
       "      <td>1</td>\n",
       "    </tr>\n",
       "    <tr>\n",
       "      <th>4</th>\n",
       "      <td>0.50922</td>\n",
       "      <td>0.352560</td>\n",
       "      <td>1</td>\n",
       "    </tr>\n",
       "  </tbody>\n",
       "</table>\n",
       "</div>"
      ],
      "text/plain": [
       "        x1        x2  y\n",
       "0  0.78051 -0.063669  1\n",
       "1  0.28774  0.291390  1\n",
       "2  0.40714  0.178780  1\n",
       "3  0.29230  0.421700  1\n",
       "4  0.50922  0.352560  1"
      ]
     },
     "execution_count": 118,
     "metadata": {},
     "output_type": "execute_result"
    }
   ],
   "source": [
    "data.head()"
   ]
  },
  {
   "cell_type": "code",
   "execution_count": 119,
   "metadata": {},
   "outputs": [],
   "source": [
    "# Formatting the data for the classifier\n",
    "features = data.iloc[:, :2].values\n",
    "target = data.iloc[:, 2].values"
   ]
  },
  {
   "cell_type": "code",
   "execution_count": 120,
   "metadata": {},
   "outputs": [],
   "source": [
    "# Helper functions\n",
    "def sigmoid(x):\n",
    "    return np.divide(1, 1 + np.exp(-x))\n",
    "\n",
    "def predict(X, W, b):\n",
    "    return sigmoid(np.dot(X, W) + b)\n",
    "\n",
    "def errorFunction(y, pred_y):\n",
    "    return np.mean(- y * np.log(pred_y) - (1 - y) * np.log(1 - pred_y))"
   ]
  },
  {
   "cell_type": "code",
   "execution_count": 156,
   "metadata": {},
   "outputs": [],
   "source": [
    "np.random.seed(42)\n",
    "n_epochs = 100\n",
    "alpha = 0.01 #Learning rate\n",
    "\n",
    "def train(features, target, n_epochs, alpha):\n",
    "    \n",
    "    n_records, n_features = features.shape\n",
    "    weights = np.random.random(size=n_features)\n",
    "    #weights = np.random.normal(scale=1 / n_features**.5, size=n_features)\n",
    "    b = 0\n",
    "    \n",
    "    for e in range(1, n_epochs + 1):\n",
    "        d_w = np.zeros(weights.shape)\n",
    "        d_b = 0\n",
    "        predictions = predict(features, weights, b)\n",
    "        for X, y, y_hat in zip(features, target, predictions):\n",
    "            weights = weights + alpha * (y - y_hat) * X\n",
    "            b = b + alpha * (y - y_hat)\n",
    "        p_labels = predictions > 0.5\n",
    "        if e % 10 == 0:\n",
    "            print('\\n############ Epoch: {} #############\\n'.format(e))\n",
    "            print('The error is: {}'.format(errorFunction(target, predictions)))\n",
    "            print('Accuracy: {}%'.format(np.mean(target == p_labels) * 100))\n"
   ]
  },
  {
   "cell_type": "code",
   "execution_count": 157,
   "metadata": {},
   "outputs": [
    {
     "name": "stdout",
     "output_type": "stream",
     "text": [
      "\n",
      "############ Epoch: 10 #############\n",
      "\n",
      "The error is: 0.672116920549725\n",
      "Accuracy: 50.0%\n",
      "\n",
      "############ Epoch: 20 #############\n",
      "\n",
      "The error is: 0.5926443672008321\n",
      "Accuracy: 75.0%\n",
      "\n",
      "############ Epoch: 30 #############\n",
      "\n",
      "The error is: 0.5310641090335984\n",
      "Accuracy: 89.0%\n",
      "\n",
      "############ Epoch: 40 #############\n",
      "\n",
      "The error is: 0.48274744202499553\n",
      "Accuracy: 92.0%\n",
      "\n",
      "############ Epoch: 50 #############\n",
      "\n",
      "The error is: 0.4442313214493449\n",
      "Accuracy: 93.0%\n",
      "\n",
      "############ Epoch: 60 #############\n",
      "\n",
      "The error is: 0.4130121666075204\n",
      "Accuracy: 93.0%\n",
      "\n",
      "############ Epoch: 70 #############\n",
      "\n",
      "The error is: 0.3872994534050107\n",
      "Accuracy: 94.0%\n",
      "\n",
      "############ Epoch: 80 #############\n",
      "\n",
      "The error is: 0.36580786617007777\n",
      "Accuracy: 94.0%\n",
      "\n",
      "############ Epoch: 90 #############\n",
      "\n",
      "The error is: 0.3476045761453937\n",
      "Accuracy: 94.0%\n",
      "\n",
      "############ Epoch: 100 #############\n",
      "\n",
      "The error is: 0.33200289193341853\n",
      "Accuracy: 94.0%\n"
     ]
    }
   ],
   "source": [
    "train(features, target, n_epochs, alpha)"
   ]
  }
 ],
 "metadata": {
  "kernelspec": {
   "display_name": "Python 3",
   "language": "python",
   "name": "python3"
  },
  "language_info": {
   "codemirror_mode": {
    "name": "ipython",
    "version": 3
   },
   "file_extension": ".py",
   "mimetype": "text/x-python",
   "name": "python",
   "nbconvert_exporter": "python",
   "pygments_lexer": "ipython3",
   "version": "3.7.0"
  }
 },
 "nbformat": 4,
 "nbformat_minor": 2
}
