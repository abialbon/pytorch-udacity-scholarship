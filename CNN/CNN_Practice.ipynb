{
  "nbformat": 4,
  "nbformat_minor": 0,
  "metadata": {
    "colab": {
      "name": "CNN Practice.ipynb",
      "version": "0.3.2",
      "provenance": [],
      "collapsed_sections": [],
      "include_colab_link": true
    },
    "kernelspec": {
      "name": "python3",
      "display_name": "Python 3"
    },
    "accelerator": "GPU"
  },
  "cells": [
    {
      "cell_type": "markdown",
      "metadata": {
        "id": "view-in-github",
        "colab_type": "text"
      },
      "source": [
        "<a href=\"https://colab.research.google.com/github/abialbon/pytorch-udacity-scholarship/blob/master/CNN/CNN_Practice.ipynb\" target=\"_parent\"><img src=\"https://colab.research.google.com/assets/colab-badge.svg\" alt=\"Open In Colab\"/></a>"
      ]
    },
    {
      "metadata": {
        "id": "rylARrFLF2Hu",
        "colab_type": "code",
        "colab": {}
      },
      "cell_type": "code",
      "source": [
        "# http://pytorch.org/\n",
        "from os.path import exists\n",
        "from wheel.pep425tags import get_abbr_impl, get_impl_ver, get_abi_tag\n",
        "platform = '{}{}-{}'.format(get_abbr_impl(), get_impl_ver(), get_abi_tag())\n",
        "cuda_output = !ldconfig -p|grep cudart.so|sed -e 's/.*\\.\\([0-9]*\\)\\.\\([0-9]*\\)$/cu\\1\\2/'\n",
        "accelerator = cuda_output[0] if exists('/dev/nvidia0') else 'cpu'\n",
        "\n",
        "!pip install -q http://download.pytorch.org/whl/{accelerator}/torch-0.4.1-{platform}-linux_x86_64.whl torchvision"
      ],
      "execution_count": 0,
      "outputs": []
    },
    {
      "metadata": {
        "id": "JNu368TpGAS7",
        "colab_type": "code",
        "outputId": "0f87fb15-300e-400e-c538-fa458010033f",
        "colab": {
          "base_uri": "https://localhost:8080/",
          "height": 34
        }
      },
      "cell_type": "code",
      "source": [
        "%matplotlib inline\n",
        "\n",
        "import torch\n",
        "from torchvision import datasets, transforms\n",
        "from torch import nn\n",
        "import torch.nn.functional as F\n",
        "from torch import optim\n",
        "import numpy as np\n",
        "import matplotlib.pyplot as plt\n",
        "\n",
        "device = 'cuda' if torch.cuda.is_available() else 'cpu'\n",
        "device"
      ],
      "execution_count": 0,
      "outputs": [
        {
          "output_type": "execute_result",
          "data": {
            "text/plain": [
              "'cuda'"
            ]
          },
          "metadata": {
            "tags": []
          },
          "execution_count": 27
        }
      ]
    },
    {
      "metadata": {
        "id": "SFrBJcVKGhT3",
        "colab_type": "code",
        "outputId": "56cf22a5-f21d-4c46-d698-0a771fa8b1e0",
        "colab": {
          "base_uri": "https://localhost:8080/",
          "height": 51
        }
      },
      "cell_type": "code",
      "source": [
        "np.random.seed(42)\n",
        "from torch.utils.data import SubsetRandomSampler\n",
        "\n",
        "train_transform = transforms.Compose([transforms.RandomAffine(10),      \n",
        "                                transforms.RandomHorizontalFlip(p=0.5),\n",
        "                                transforms.RandomRotation(10),\n",
        "                                transforms.ToTensor(),\n",
        "                                transforms.Normalize([0.5, 0.5, 0.5], [0.5, 0.5, 0.5])])\n",
        "\n",
        "\n",
        "transform = transforms.Compose([transforms.ToTensor(),\n",
        "                               transforms.Normalize([0.5, 0.5, 0.5], [0.5, 0.5, 0.5])])\n",
        "\n",
        "trainset = datasets.CIFAR10('/data', train=True, transform=train_transform, download=True)\n",
        "testset = datasets.CIFAR10('/data', train=False, transform=transform, download=True)\n",
        "\n",
        "val_fraction = 0.5\n",
        "i = int(len(testset) * val_fraction)\n",
        "idx = np.array([x for x in range(len(testset))])\n",
        "np.random.shuffle(idx)\n",
        "\n",
        "val_idx, test_idx = SubsetRandomSampler(idx[:i]), SubsetRandomSampler(idx[i:])\n",
        "\n",
        "trainloader = torch.utils.data.DataLoader(trainset, batch_size=32, shuffle=True)\n",
        "validloader = torch.utils.data.DataLoader(testset, batch_size=32, sampler= val_idx)\n",
        "testloader = torch.utils.data.DataLoader(testset, batch_size=32, sampler= test_idx)"
      ],
      "execution_count": 0,
      "outputs": [
        {
          "output_type": "stream",
          "text": [
            "Files already downloaded and verified\n",
            "Files already downloaded and verified\n"
          ],
          "name": "stdout"
        }
      ]
    },
    {
      "metadata": {
        "id": "auB66GwJH1jA",
        "colab_type": "code",
        "colab": {}
      },
      "cell_type": "code",
      "source": [
        "def imshow(tensor):\n",
        "    tensor = (tensor * 0.5) + 0.5\n",
        "    tensor = tensor.numpy().squeeze()\n",
        "    tensor = tensor.transpose(1, 2, 0)\n",
        "    plt.imshow(tensor)\n",
        "    plt.show()"
      ],
      "execution_count": 0,
      "outputs": []
    },
    {
      "metadata": {
        "id": "NeKkNrGdOOoZ",
        "colab_type": "code",
        "colab": {}
      },
      "cell_type": "code",
      "source": [
        "class ImageClassifier(nn.Module):\n",
        "    def __init__(self):\n",
        "        super().__init__()\n",
        "        \n",
        "        self.c1 = nn.Conv2d(3, 16, 3, padding=1)\n",
        "        self.c2 = nn.Conv2d(16, 32, 3, padding=1)\n",
        "        self.c3 = nn.Conv2d(32, 64, 3, padding=1)\n",
        "        \n",
        "        self.max_pool = nn.MaxPool2d(2, 2)\n",
        "        \n",
        "        self.fc1 = nn.Linear(64*4*4, 128)\n",
        "        self.fc2 = nn.Linear(128, 10)\n",
        "        \n",
        "        self.dropout = nn.Dropout(0.2)\n",
        "        \n",
        "        \n",
        "    def forward(self, x):\n",
        "        x = self.max_pool(F.relu(self.c1(x)))\n",
        "        x = self.max_pool(F.relu(self.c2(x)))\n",
        "        x = self.max_pool(F.relu(self.c3(x)))\n",
        "        x = x.view(-1, 64*4*4)\n",
        "        x = F.relu(self.fc1(x))\n",
        "        x = self.dropout(x)\n",
        "        x = F.log_softmax(self.fc2(x), dim=1)\n",
        "        return x\n",
        "    \n",
        "      "
      ],
      "execution_count": 0,
      "outputs": []
    },
    {
      "metadata": {
        "id": "zwB25adHcGLF",
        "colab_type": "code",
        "outputId": "0ced1284-0043-41d6-e67f-aa089cb8afc3",
        "colab": {
          "base_uri": "https://localhost:8080/",
          "height": 170
        }
      },
      "cell_type": "code",
      "source": [
        "model = ImageClassifier()\n",
        "model.to(device)"
      ],
      "execution_count": 0,
      "outputs": [
        {
          "output_type": "execute_result",
          "data": {
            "text/plain": [
              "ImageClassifier(\n",
              "  (c1): Conv2d(3, 16, kernel_size=(3, 3), stride=(1, 1), padding=(1, 1))\n",
              "  (c2): Conv2d(16, 32, kernel_size=(3, 3), stride=(1, 1), padding=(1, 1))\n",
              "  (c3): Conv2d(32, 64, kernel_size=(3, 3), stride=(1, 1), padding=(1, 1))\n",
              "  (max_pool): MaxPool2d(kernel_size=2, stride=2, padding=0, dilation=1, ceil_mode=False)\n",
              "  (fc1): Linear(in_features=1024, out_features=128, bias=True)\n",
              "  (fc2): Linear(in_features=128, out_features=10, bias=True)\n",
              "  (dropout): Dropout(p=0.2)\n",
              ")"
            ]
          },
          "metadata": {
            "tags": []
          },
          "execution_count": 31
        }
      ]
    },
    {
      "metadata": {
        "id": "lvdANfP1cc_0",
        "colab_type": "code",
        "colab": {}
      },
      "cell_type": "code",
      "source": [
        "criterion = nn.NLLLoss()\n",
        "optimizer = optim.Adam(model.parameters(), lr=0.001)"
      ],
      "execution_count": 0,
      "outputs": []
    },
    {
      "metadata": {
        "id": "beSx8sjQgRz2",
        "colab_type": "code",
        "outputId": "8d1b5260-95c7-4154-b16d-ae5490dbe1d6",
        "colab": {
          "base_uri": "https://localhost:8080/",
          "height": 561
        }
      },
      "cell_type": "code",
      "source": [
        "epochs = 20\n",
        "val_min = np.inf\n",
        "\n",
        "for e in range(epochs):\n",
        "    model.train()\n",
        "    \n",
        "    train_loss = 0\n",
        "    \n",
        "    for images, labels in trainloader:\n",
        "        images, labels = images.to(device), labels.to(device)\n",
        "        \n",
        "        output = model.forward(images)\n",
        "        loss = criterion(output, labels)\n",
        "        train_loss += loss.item()\n",
        "        optimizer.zero_grad()\n",
        "        loss.backward()\n",
        "        optimizer.step()\n",
        "        \n",
        "    else:\n",
        "        val_loss = 0\n",
        "        model.eval()\n",
        "        with torch.no_grad():\n",
        "            for images, labels in validloader:\n",
        "                images, labels = images.to(device), labels.to(device)\n",
        "                output = model.forward(images)\n",
        "                loss = criterion(output, labels)\n",
        "                val_loss += loss.item()\n",
        "            else:\n",
        "                avg_val_loss = val_loss/len(validloader)\n",
        "                print('Epoch: {} ---- Train loss: {:.3f} ---- Val loss: {:.3f}'.format(e+1, train_loss/len(trainloader), avg_val_loss))\n",
        "                if avg_val_loss < val_min:\n",
        "                    val_min = avg_val_loss\n",
        "                    torch.save(model.state_dict(), 'model.pth')\n",
        "                    print('Model has been saved successfully!')\n",
        "        "
      ],
      "execution_count": 0,
      "outputs": [
        {
          "output_type": "stream",
          "text": [
            "Epoch: 1 ---- Train loss: 1.571 ---- Val loss: 1.301\n",
            "Model has been saved successfully!\n",
            "Epoch: 2 ---- Train loss: 1.273 ---- Val loss: 1.121\n",
            "Model has been saved successfully!\n",
            "Epoch: 3 ---- Train loss: 1.142 ---- Val loss: 1.052\n",
            "Model has been saved successfully!\n",
            "Epoch: 4 ---- Train loss: 1.050 ---- Val loss: 0.919\n",
            "Model has been saved successfully!\n",
            "Epoch: 5 ---- Train loss: 0.994 ---- Val loss: 0.922\n",
            "Epoch: 6 ---- Train loss: 0.952 ---- Val loss: 0.863\n",
            "Model has been saved successfully!\n",
            "Epoch: 7 ---- Train loss: 0.915 ---- Val loss: 0.850\n",
            "Model has been saved successfully!\n",
            "Epoch: 8 ---- Train loss: 0.885 ---- Val loss: 0.829\n",
            "Model has been saved successfully!\n",
            "Epoch: 9 ---- Train loss: 0.860 ---- Val loss: 0.807\n",
            "Model has been saved successfully!\n",
            "Epoch: 10 ---- Train loss: 0.845 ---- Val loss: 0.828\n",
            "Epoch: 11 ---- Train loss: 0.833 ---- Val loss: 0.767\n",
            "Model has been saved successfully!\n",
            "Epoch: 12 ---- Train loss: 0.816 ---- Val loss: 0.831\n",
            "Epoch: 13 ---- Train loss: 0.802 ---- Val loss: 0.778\n",
            "Epoch: 14 ---- Train loss: 0.792 ---- Val loss: 0.750\n",
            "Model has been saved successfully!\n",
            "Epoch: 15 ---- Train loss: 0.778 ---- Val loss: 0.759\n",
            "Epoch: 16 ---- Train loss: 0.770 ---- Val loss: 0.769\n",
            "Epoch: 17 ---- Train loss: 0.763 ---- Val loss: 0.768\n",
            "Epoch: 18 ---- Train loss: 0.758 ---- Val loss: 0.737\n",
            "Model has been saved successfully!\n",
            "Epoch: 19 ---- Train loss: 0.744 ---- Val loss: 0.760\n",
            "Epoch: 20 ---- Train loss: 0.739 ---- Val loss: 0.732\n",
            "Model has been saved successfully!\n"
          ],
          "name": "stdout"
        }
      ]
    },
    {
      "metadata": {
        "id": "vh0r-u4SiNnj",
        "colab_type": "code",
        "outputId": "7f9bbf87-8bf7-4ccd-d30d-57fd6871297e",
        "colab": {
          "base_uri": "https://localhost:8080/",
          "height": 34
        }
      },
      "cell_type": "code",
      "source": [
        "with torch.no_grad():\n",
        "    accuracy = 0\n",
        "    for images, labels in testloader:\n",
        "        images, labels = images.to(device), labels.to(device)\n",
        "        output = model.forward(images)\n",
        "        probs = torch.exp(output)\n",
        "        p, top_c = probs.topk(1)\n",
        "        equals = top_c.squeeze() == labels\n",
        "        equals = equals.type(torch.FloatTensor)\n",
        "        accuracy += equals.mean()\n",
        "    print(accuracy/len(testloader) * 100)\n",
        "    "
      ],
      "execution_count": 0,
      "outputs": [
        {
          "output_type": "stream",
          "text": [
            "tensor(75.1393)\n"
          ],
          "name": "stdout"
        }
      ]
    },
    {
      "metadata": {
        "id": "M-bTot23iBgR",
        "colab_type": "code",
        "colab": {}
      },
      "cell_type": "code",
      "source": [
        "l = ['airplane', 'automobile', 'bird', 'cat', 'deer', 'dog', 'frog', 'horse', 'ship', 'truck']"
      ],
      "execution_count": 0,
      "outputs": []
    },
    {
      "metadata": {
        "id": "QyUWa3Ejl-Yg",
        "colab_type": "code",
        "outputId": "ed3ce6e2-3387-401a-b595-51663c97ec62",
        "colab": {
          "base_uri": "https://localhost:8080/",
          "height": 300
        }
      },
      "cell_type": "code",
      "source": [
        "images, labels = iter(testloader).next()\n",
        "\n",
        "i = images[20]\n",
        "print(labels[20])\n",
        "o = model.forward(i.unsqueeze(0).to(device))\n",
        "p = torch.exp(o)\n",
        "_, top_c = p.topk(1)\n",
        "\n",
        "print(l[top_c.item()])\n",
        "imshow(i)"
      ],
      "execution_count": 0,
      "outputs": [
        {
          "output_type": "stream",
          "text": [
            "tensor(9)\n",
            "truck\n"
          ],
          "name": "stdout"
        },
        {
          "output_type": "display_data",
          "data": {
            "image/png": "[encoded data removed]",
            "text/plain": [
              "<matplotlib.figure.Figure at 0x7f7d79184a58>"
            ]
          },
          "metadata": {
            "tags": []
          }
        }
      ]
    },
    {
      "metadata": {
        "id": "wZsF7IYhOOc4",
        "colab_type": "code",
        "colab": {}
      },
      "cell_type": "code",
      "source": [
        "newmodel = ImageClassifier()\n",
        "newmodel.load_state_dict(torch.load('model.pth'))"
      ],
      "execution_count": 0,
      "outputs": []
    },
    {
      "metadata": {
        "id": "Bj36h3tDPobf",
        "colab_type": "code",
        "colab": {}
      },
      "cell_type": "code",
      "source": [
        "newmodel.cuda()\n",
        "with torch.no_grad():\n",
        "    accuracy = 0\n",
        "    for images, labels in testloader:\n",
        "        images, labels = images.to(device), labels.to(device)\n",
        "        output = newmodel.forward(images)\n",
        "        probs = torch.exp(output)\n",
        "        p, top_c = probs.topk(1)\n",
        "        equals = top_c.squeeze() == labels\n",
        "        equals = equals.type(torch.FloatTensor)\n",
        "        accuracy += equals.mean()\n",
        "    print(accuracy/len(testloader) * 100)"
      ],
      "execution_count": 0,
      "outputs": []
    }
  ]
}